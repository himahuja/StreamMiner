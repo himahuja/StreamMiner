{
 "cells": [
  {
   "cell_type": "markdown",
   "metadata": {
    "nbpresent": {
     "id": "6bf67a59-4c96-470e-bdb1-0b32bae5848f"
    }
   },
   "source": [
    "# Import Settings"
   ]
  },
  {
   "cell_type": "code",
   "execution_count": 1,
   "metadata": {
    "nbpresent": {
     "id": "4d73c679-2f35-4898-8979-4dbdb11dc2a0"
    }
   },
   "outputs": [
    {
     "name": "stderr",
     "output_type": "stream",
     "text": [
      "/Users/himanshuahuja/anaconda3/envs/pcatwd2/lib/python2.7/site-packages/pandas/_libs/__init__.py:4: RuntimeWarning: numpy.dtype size changed, may indicate binary incompatibility. Expected 96, got 88\n",
      "  from .tslib import iNaT, NaT, Timestamp, Timedelta, OutOfBoundsDatetime\n",
      "/Users/himanshuahuja/anaconda3/envs/pcatwd2/lib/python2.7/site-packages/pandas/__init__.py:26: RuntimeWarning: numpy.dtype size changed, may indicate binary incompatibility. Expected 96, got 88\n",
      "  from pandas._libs import (hashtable as _hashtable,\n",
      "/Users/himanshuahuja/anaconda3/envs/pcatwd2/lib/python2.7/site-packages/pandas/core/dtypes/common.py:6: RuntimeWarning: numpy.dtype size changed, may indicate binary incompatibility. Expected 96, got 88\n",
      "  from pandas._libs import algos, lib\n",
      "/Users/himanshuahuja/anaconda3/envs/pcatwd2/lib/python2.7/site-packages/pandas/core/util/hashing.py:7: RuntimeWarning: numpy.dtype size changed, may indicate binary incompatibility. Expected 96, got 88\n",
      "  from pandas._libs import hashing, tslib\n",
      "/Users/himanshuahuja/anaconda3/envs/pcatwd2/lib/python2.7/site-packages/pandas/core/indexes/base.py:7: RuntimeWarning: numpy.dtype size changed, may indicate binary incompatibility. Expected 96, got 88\n",
      "  from pandas._libs import (lib, index as libindex, tslib as libts,\n",
      "/Users/himanshuahuja/anaconda3/envs/pcatwd2/lib/python2.7/site-packages/pandas/tseries/offsets.py:21: RuntimeWarning: numpy.dtype size changed, may indicate binary incompatibility. Expected 96, got 88\n",
      "  import pandas._libs.tslibs.offsets as liboffsets\n",
      "/Users/himanshuahuja/anaconda3/envs/pcatwd2/lib/python2.7/site-packages/pandas/core/ops.py:16: RuntimeWarning: numpy.dtype size changed, may indicate binary incompatibility. Expected 96, got 88\n",
      "  from pandas._libs import algos as libalgos, ops as libops\n",
      "/Users/himanshuahuja/anaconda3/envs/pcatwd2/lib/python2.7/site-packages/pandas/core/indexes/interval.py:32: RuntimeWarning: numpy.dtype size changed, may indicate binary incompatibility. Expected 96, got 88\n",
      "  from pandas._libs.interval import (\n",
      "/Users/himanshuahuja/anaconda3/envs/pcatwd2/lib/python2.7/site-packages/pandas/core/internals.py:14: RuntimeWarning: numpy.dtype size changed, may indicate binary incompatibility. Expected 96, got 88\n",
      "  from pandas._libs import internals as libinternals\n",
      "/Users/himanshuahuja/anaconda3/envs/pcatwd2/lib/python2.7/site-packages/pandas/core/sparse/array.py:33: RuntimeWarning: numpy.dtype size changed, may indicate binary incompatibility. Expected 96, got 88\n",
      "  import pandas._libs.sparse as splib\n",
      "/Users/himanshuahuja/anaconda3/envs/pcatwd2/lib/python2.7/site-packages/pandas/core/window.py:36: RuntimeWarning: numpy.dtype size changed, may indicate binary incompatibility. Expected 96, got 88\n",
      "  import pandas._libs.window as _window\n",
      "/Users/himanshuahuja/anaconda3/envs/pcatwd2/lib/python2.7/site-packages/pandas/core/groupby/groupby.py:68: RuntimeWarning: numpy.dtype size changed, may indicate binary incompatibility. Expected 96, got 88\n",
      "  from pandas._libs import (lib, reduction,\n",
      "/Users/himanshuahuja/anaconda3/envs/pcatwd2/lib/python2.7/site-packages/pandas/core/reshape/reshape.py:30: RuntimeWarning: numpy.dtype size changed, may indicate binary incompatibility. Expected 96, got 88\n",
      "  from pandas._libs import algos as _algos, reshape as _reshape\n",
      "/Users/himanshuahuja/anaconda3/envs/pcatwd2/lib/python2.7/site-packages/pandas/io/parsers.py:45: RuntimeWarning: numpy.dtype size changed, may indicate binary incompatibility. Expected 96, got 88\n",
      "  import pandas._libs.parsers as parsers\n",
      "/Users/himanshuahuja/anaconda3/envs/pcatwd2/lib/python2.7/site-packages/pandas/io/pytables.py:50: RuntimeWarning: numpy.dtype size changed, may indicate binary incompatibility. Expected 96, got 88\n",
      "  from pandas._libs import algos, lib, writers as libwriters\n"
     ]
    }
   ],
   "source": [
    "import heapq\n",
    "import sys\n",
    "import os\n",
    "import argparse\n",
    "import numpy as np\n",
    "import pandas as pd\n",
    "import warnings\n",
    "import ujson as json\n",
    "import logging as log\n",
    "from copy import copy\n",
    "import tqdm\n",
    "\n",
    "###### Cython benign warning ignore ##########################\n",
    "import warnings\n",
    "warnings.filterwarnings(\"ignore\", message=\"numpy.dtype size changed\")\n",
    "warnings.filterwarnings(\"ignore\", message=\"numpy.ufunc size changed\")\n",
    "###############################################################\n",
    "\n",
    "from pandas import DataFrame, Series\n",
    "from os.path import expanduser, abspath, isfile, isdir, basename, splitext, \\\n",
    "\tdirname, join, exists\n",
    "from time import time\n",
    "from datetime import date\n",
    "import cPickle as pkl\n",
    "\n",
    "#####################################\n",
    "from datastructures.rgraph import Graph, weighted_degree\n",
    "#####################################\n",
    "\n",
    "from time import time\n",
    "from os.path import exists, join, abspath, expanduser, basename, dirname, \\\n",
    "\tisdir, splitext\n",
    "from sklearn.feature_extraction import DictVectorizer\n",
    "from sklearn.feature_selection import mutual_info_classif, SelectKBest\n",
    "from sklearn.linear_model import LogisticRegression\n",
    "from sklearn.pipeline import Pipeline\n",
    "from sklearn.model_selection import GridSearchCV\n",
    "\n",
    "from datastructures.rgraph import make_graph, Graph\n",
    "from datastructures.relationalpath import RelationalPath\n",
    "from datastructures.relationalpath_sm import RelationalPathSM\n",
    "from pathenum import get_paths as c_get_paths\n",
    "## for streamminer,\n",
    "from pathenum import get_paths_sm as c_get_paths_sm\n",
    "\n",
    "##############################################\n",
    "from algorithms.mincostflow.ssp import succ_shortest_path, disable_logging\n",
    "from algorithms.relklinker.rel_closure import relational_closure as relclosure\n",
    "from algorithms.sm.rel_closure import relational_closure_sm as relclosure_sm\n",
    "from algorithms.klinker.closure import closure\n",
    "##############################################\n",
    "\n",
    "###################################################################\n",
    "################# DATABASE and RELSIM SETUP #######################\n",
    "###################################################################\n",
    "# KG - DBpedia\n",
    "HOME = abspath(expanduser('~/Documents/streamminer/data/'))\n",
    "if not exists(HOME):\n",
    "\tprint 'Data directory not found: %s' % HOME\n",
    "\tprint 'Download data per instructions on:'\n",
    "\tprint '\\thttps://github.com/shiralkarprashant/knowledgestream#data'\n",
    "\tprint 'and enter the directory path below.'\n",
    "\tdata_dir = raw_input('\\nPlease enter data directory path: ')\n",
    "\tif data_dir != '':\n",
    "\t\tdata_dir = abspath(expanduser(data_dir))\n",
    "\tif not os.path.isdir(data_dir):\n",
    "\t\traise Exception('Entered path \"%s\" not a directory.' % data_dir)\n",
    "\tif not exists(data_dir):\n",
    "\t\traise Exception('Directory does not exist: %s' % data_dir)\n",
    "\tHOME = data_dir\n",
    "\t# raise Exception('Please set HOME to data directory in algorithms/__main__.py')\n",
    "PATH = join(HOME, 'kg/_undir/')\n",
    "assert exists(PATH)\n",
    "SHAPE = (6060993, 6060993, 663)\n",
    "WTFN = 'logdegree'\n",
    "\n",
    "# # relational similarity using TF-IDF representation and cosine similarity\n",
    "# RELSIMPATH = join(HOME, 'relsim/coo_mat_sym_2016-10-24_log-tf_tfidf.npy')\n",
    "# assert exists(RELSIMPATH)\n",
    "##############################################################\n",
    "RELSIMPATH = join(HOME, 'relsim/coo_mat_sym_2016-10-24_log-tf_tfidf.npy')\n",
    "assert exists(RELSIMPATH)\n",
    "##############################################################\n",
    "# relational similarity using TF-IDF representation and cosine similarity\n",
    "\n",
    "# relsim = np.load(RELSIMPATH)\n",
    "\n",
    "# Date\n",
    "DATE = '{}'.format(date.today())\n",
    "\n",
    "# data types for int and float\n",
    "_short = np.int16\n",
    "_int = np.int32\n",
    "_int64 = np.int64\n",
    "_float = np.float\n",
    "\n",
    "%matplotlib inline\n",
    "import matplotlib.pyplot as plt\n",
    "import heapq\n",
    "inf = float('inf')"
   ]
  },
  {
   "cell_type": "code",
   "execution_count": 2,
   "metadata": {
    "nbpresent": {
     "id": "d77ac976-3df5-4f75-a8ee-e7e6d343fc9a"
    }
   },
   "outputs": [
    {
     "name": "stdout",
     "output_type": "stream",
     "text": [
      "Reconstructing graph from /Users/himanshuahuja/Documents/streamminer/data/kg/_undir\n",
      "=> Loaded: undir_data.npy\n",
      "=> Loaded: undir_indptr.npy\n",
      "=> Loaded: undir_indices.npy\n",
      "=> Loaded: undir_indeg_vec.npy\n",
      "=> Graph loaded: 1.16 secs.\n",
      "\n"
     ]
    }
   ],
   "source": [
    "\trelsim = np.load(RELSIMPATH)\n",
    "\n",
    "\toutdir = abspath(expanduser('output/'))\n",
    "\tassert exists(outdir)\n",
    "\tdatafile = abspath(expanduser('datasets/sample.csv'))\n",
    "\tassert exists(datafile)\n",
    "\tlog.info('Launching {}..'.format('SM'))\n",
    "\tlog.info('Dataset: {}'.format(basename(datafile)))\n",
    "\tlog.info('Output dir: {}'.format(outdir))\n",
    "\n",
    "\t# read data\n",
    "\tdf = pd.read_table(datafile, sep=',', header=0)\n",
    "\tlog.info('Read data: {} {}'.format(df.shape, basename(datafile)))\n",
    "\tspo_df = df.dropna(axis=0, subset=['sid', 'pid', 'oid'])\n",
    "\tlog.info('Note: Found non-NA records: {}'.format(spo_df.shape))\n",
    "\tdf = spo_df[['sid', 'pid', 'oid']].values\n",
    "\tsubs, preds, objs  = df[:,0].astype(_int), df[:,1].astype(_int), df[:,2].astype(_int)\n",
    "\n",
    "\t# load knowledge graph\n",
    "\tG = Graph.reconstruct(PATH, SHAPE, sym=True) # undirected\n",
    "\tassert np.all(G.csr.indices >= 0)\n",
    "\tbase = splitext(basename(datafile))[0]\n"
   ]
  },
  {
   "cell_type": "markdown",
   "metadata": {},
   "source": [
    "## Some Experiments on the graph"
   ]
  },
  {
   "cell_type": "code",
   "execution_count": 3,
   "metadata": {},
   "outputs": [],
   "source": [
    "def weighted_degree(arr, weight='logdegree'):\n",
    "\t\"\"\"Returns a weighted version of the array.\"\"\"\n",
    "\tif weight == 'degree':\n",
    "\t\tarr = 1./(1 + arr)\n",
    "\telif weight == 'logdegree':\n",
    "\t\tarr = 1./(1 + np.log(arr))\n",
    "\telse:\n",
    "\t\traise ValueError('Unknown weight function.')\n",
    "\treturn arr"
   ]
  },
  {
   "cell_type": "code",
   "execution_count": 4,
   "metadata": {},
   "outputs": [
    {
     "name": "stdout",
     "output_type": "stream",
     "text": [
      "Shape of the data array: (48091479,)\n",
      "Shape of the indices array: (48091479,)\n",
      "Shape of the indptr array: (6060994,)\n"
     ]
    },
    {
     "data": {
      "image/png": "[encoded data removed]",
      "text/plain": [
       "<Figure size 432x288 with 1 Axes>"
      ]
     },
     "metadata": {},
     "output_type": "display_data"
    }
   ],
   "source": [
    "print \"Shape of the data array: {}\".format(G.csr.data.shape) #Undirected graph\n",
    "print \"Shape of the indices array: {}\".format(G.csr.indices.shape) # for all the data points, there is one\n",
    "print \"Shape of the indptr array: {}\".format(G.csr.indptr.shape) # for all the 6M entities\n",
    "# To get an item on a particular position, just perform indexing on the self.csr matrix [node_row, rel_num * G.N + col_num]\n",
    "plt.hist(G.csr.data, bins=100)\n",
    "plt.show()"
   ]
  },
  {
   "cell_type": "markdown",
   "metadata": {},
   "source": [
    "## Some settings for SM"
   ]
  },
  {
   "cell_type": "code",
   "execution_count": 5,
   "metadata": {},
   "outputs": [
    {
     "name": "stdout",
     "output_type": "stream",
     "text": [
      "PID is: 599.0, with type: float64\n",
      "Specificity_wt has the shape: (48091479,)\n"
     ]
    },
    {
     "data": {
      "image/png": "[encoded data removed]",
      "text/plain": [
       "<Figure size 432x288 with 1 Axes>"
      ]
     },
     "metadata": {},
     "output_type": "display_data"
    }
   ],
   "source": [
    "triples = spo_df\n",
    "y = triples['class'] # ground truth\n",
    "triples = triples[['sid', 'pid', 'oid']].to_dict(orient='records')\n",
    "\n",
    "pid_removal = triples[0]['pid']\n",
    "print 'PID is: {}, with type: {}'.format(pid_removal, pid_removal.dtype)\n",
    "#############################################################################\n",
    "indegsim = weighted_degree(G.indeg_vec, weight=WTFN).reshape((1, G.N))\n",
    "indegsim = indegsim.ravel()\n",
    "targets = G.csr.indices % G.N #target nodes are the node values that would occur in the first E x E matrix\n",
    "specificity_wt = indegsim[targets]\n",
    "print \"Specificity_wt has the shape: {}\".format(specificity_wt.shape)\n",
    "plt.hist(specificity_wt, bins=100)\n",
    "plt.show()\n",
    "################################################################"
   ]
  },
  {
   "cell_type": "markdown",
   "metadata": {},
   "source": [
    "#### Finding the relsim vector corresponding to predicate, p"
   ]
  },
  {
   "cell_type": "code",
   "execution_count": 6,
   "metadata": {},
   "outputs": [
    {
     "name": "stdout",
     "output_type": "stream",
     "text": [
      "Expected shape of the relsimvec is: (663,)\n",
      "Shape of relsim_wt is: (48091479,)\n"
     ]
    },
    {
     "data": {
      "image/png": "[encoded data removed]",
      "text/plain": [
       "<Figure size 432x288 with 1 Axes>"
      ]
     },
     "metadata": {},
     "output_type": "display_data"
    },
    {
     "data": {
      "text/plain": [
       "array([599])"
      ]
     },
     "execution_count": 6,
     "metadata": {},
     "output_type": "execute_result"
    }
   ],
   "source": [
    "relations = (G.csr.indices - targets) / G.N #gives the respective relation values of those indices\n",
    "relsimvec = np.array(relsim[int(pid_removal), :]) # specific to predicate p\n",
    "print \"Expected shape of the relsimvec is: {}\".format(relsimvec.shape)\n",
    "relsim_wt = relsimvec[relations] # with the size of relations as the number of relations\n",
    "print \"Shape of relsim_wt is: {}\".format(relsim_wt.shape)\n",
    "# Binning the cosine similarity plot\n",
    "plt.hist(relsimvec, bins=20)\n",
    "plt.show()\n",
    "np.unique(np.where(relsimvec == 1))"
   ]
  },
  {
   "cell_type": "markdown",
   "metadata": {},
   "source": [
    "#### Removing the edge corresponding to p in the specificity matrix (soon to be data matrix)"
   ]
  },
  {
   "cell_type": "code",
   "execution_count": 7,
   "metadata": {},
   "outputs": [
    {
     "name": "stdout",
     "output_type": "stream",
     "text": [
      "=> Removing predicate 599.0 from KG.\n"
     ]
    },
    {
     "data": {
      "image/png": "[encoded data removed]",
      "text/plain": [
       "<Figure size 432x288 with 1 Axes>"
      ]
     },
     "metadata": {},
     "output_type": "display_data"
    },
    {
     "data": {
      "image/png": "[encoded data removed]",
      "text/plain": [
       "<Figure size 432x288 with 1 Axes>"
      ]
     },
     "metadata": {},
     "output_type": "display_data"
    },
    {
     "data": {
      "image/png": "[encoded data removed]",
      "text/plain": [
       "<Figure size 432x288 with 1 Axes>"
      ]
     },
     "metadata": {},
     "output_type": "display_data"
    },
    {
     "name": "stdout",
     "output_type": "stream",
     "text": [
      "Number of 1 entries before oid specific ones: 1287481\n"
     ]
    }
   ],
   "source": [
    "print '=> Removing predicate {} from KG.'.format(pid_removal)\n",
    "eraseedges_mask = ((G.csr.indices - (G.csr.indices % G.N)) / G.N) == int(pid_removal)\n",
    "specificity_wt[eraseedges_mask] = 0\n",
    "relsim_wt[eraseedges_mask] = 0\n",
    "plt.hist(specificity_wt, bins=100, label='specificity')\n",
    "plt.show()\n",
    "plt.hist(relsim_wt, bins=100, label='relsim wrt to, {}'.format(pid_removal))\n",
    "plt.show()\n",
    "G.csr.data = specificity_wt.copy()\n",
    "plt.hist(G.csr.data, bins=100)\n",
    "plt.show()\n",
    "# data has still 48M entries, but some of th1`ese indices now refer to 0 data point. The data point is not removed, it still stays.\n",
    "print \"Number of 1 entries before oid specific ones: {}\".format(np.sum(G.csr.data == 1))"
   ]
  },
  {
   "cell_type": "markdown",
   "metadata": {},
   "source": [
    "##### Performing operation for a single (s, p, o)"
   ]
  },
  {
   "cell_type": "code",
   "execution_count": 9,
   "metadata": {},
   "outputs": [
    {
     "name": "stdout",
     "output_type": "stream",
     "text": [
      "Number of entries of the oid: 917821.0 are: 642\n"
     ]
    },
    {
     "data": {
      "image/png": "[encoded data removed]",
      "text/plain": [
       "<Figure size 432x288 with 1 Axes>"
      ]
     },
     "metadata": {},
     "output_type": "display_data"
    },
    {
     "name": "stdout",
     "output_type": "stream",
     "text": [
      "Number of 1 entries after oid specific ones: 1288123\n"
     ]
    },
    {
     "data": {
      "image/png": "[encoded data removed]",
      "text/plain": [
       "<Figure size 432x288 with 1 Axes>"
      ]
     },
     "metadata": {},
     "output_type": "display_data"
    },
    {
     "name": "stdout",
     "output_type": "stream",
     "text": [
      "Total sum caused by 599.0 is 0.0\n",
      "[392035, 78, 3796026, 917821] [-1, 660, 660, 189] [0.04677637245526408, 0.04897407958543173, 0.05747524021392434, 1.0]\n"
     ]
    },
    {
     "data": {
      "image/png": "[encoded data removed]",
      "text/plain": [
       "<Figure size 432x288 with 1 Axes>"
      ]
     },
     "metadata": {},
     "output_type": "display_data"
    }
   ],
   "source": [
    "return_features = False\n",
    "features = None\n",
    "if features is None:\n",
    "    return_features = True\n",
    "    features, pos_features, neg_features = set(), set(), set()\n",
    "measurements = []\n",
    "G_bak = {\n",
    "'data': G.csr.data.copy(),\n",
    "'indices': G.csr.indices.copy(),\n",
    "'indptr': G.csr.indptr.copy()\n",
    "}\n",
    "idx = 2\n",
    "triple = triples[idx] # indexing the first triple\n",
    "sid, pid, oid = triple['sid'], triple['pid'], triple['oid']\n",
    "label = y[idx]\n",
    "targets = G.csr.indices % G.N\n",
    "print \"Number of entries of the oid: {} are: {}\".format(oid, np.sum(targets == oid))\n",
    "G.csr.data[targets == oid] = 1\n",
    "plt.hist(G.csr.data, bins=100)\n",
    "plt.show()\n",
    "print \"Number of 1 entries after oid specific ones: {}\".format(np.sum(G.csr.data == 1))\n",
    "G.csr.data = np.multiply(relsim_wt, G.csr.data)\n",
    "plt.hist(G.csr.data, bins=100)\n",
    "plt.show()\n",
    "print \"Total sum caused by {} is {}\".format(pid_removal, np.sum(G.csr.data[relations == 599]))\n",
    "weight_stack, path_stack, rel_stack = relclosure_sm(G, int(sid), int(pid), int(oid), kind='metric', linkpred=True)\n",
    "print path_stack, rel_stack, weight_stack\n",
    "np.copyto(G.csr.data, G_bak['data'])\n",
    "np.copyto(G.csr.indices, G_bak['indices'])\n",
    "np.copyto(G.csr.indptr, G_bak['indptr'])\n",
    "plt.hist(G.csr.data, bins=100)\n",
    "plt.show()"
   ]
  },
  {
   "cell_type": "code",
   "execution_count": null,
   "metadata": {},
   "outputs": [],
   "source": [
    "def yenKSP4(G, sid, pid, oid, K = 5):\n",
    "\tdiscovered_paths = []\n",
    "\t#create graph backup\n",
    "\tweight_stack, path_stack, rel_stack = relclosure_sm(G, int(sid), int(pid), int(oid), kind='metric', linkpred=True)\n",
    "\t# log.debug(\"Shortest path for s:{}, p:{}, o:{} is: {}\".format(sid, pid, oid, path_stack))\n",
    "\t#print \"Shortest path for s:{}, p:{}, o:{} is: {}\".format(sid, pid, oid, path_stack)\n",
    "\tif not path_stack:\n",
    "\t\t## if the first shortest path is empty, retuen empty discoverd_paths\n",
    "\t\treturn discovered_paths\n",
    "\tA = [{'path_total_cost': np.sum(weight_stack),\n",
    "\t\t'path': path_stack,\n",
    "\t\t'path_rel': rel_stack,\n",
    "\t\t'path_weights': weight_stack}]\n",
    "\tB = []\n",
    "\tremoved_edges = []\n",
    "\tremoved_nodes = []\n",
    "\tfor k in xrange(1, K): #for the k-th path, it assumes all paths 1..k-1 are available\n",
    "\n",
    "\t\tfor i in xrange(0, len(A[-1]['path'])-1):\n",
    "\t\t\tspurNode = A[-1]['path'][i]\n",
    "\t\t\trootPath = A[-1]['path'][:i+1]\n",
    "\t\t\trootPathRel = A[-1]['path_rel'][:i+1]\n",
    "\t\t\trootPathWeights = A[-1]['path_weights'][:i+1]\n",
    "\t\t\t#print \"rp: {}, rpr: {}, rpw: {}\".format(len(rootPath), len(rootPathRel), len(rootPathWeights))\n",
    "\t\t\tremoved_edges[:] = []\n",
    "\t\t\tremoved_nodes[:] = []\n",
    "\t\t\tfor path_dict in A:\n",
    "\t\t\t\tif len(path_dict['path']) > i and rootPath == path_dict['path'][:i+1]:\n",
    "\t\t\t\t\tremoved_edges.extend( delete_edge(G, path_dict['path'][i], path_dict['path_rel'][i+1], path_dict['path'][i+1]) )\n",
    "\t\t\t# for rootPathNode in rootPath[:-1]:\n",
    "\t\t\t# \tremoved_nodes.extend( delete_node(G, rootPathNode) )\n",
    "\n",
    "\t\t\tspurPathWeights, spurPath, spurPathRel = relclosure_sm(G, int(spurNode), int(pid), int(oid), kind='metric', linkpred = True)\n",
    "\n",
    "\t\t\tif spurPath and spurPathRel != [-1]:\n",
    "\t\t\t\t# print(\"Supplementary path was found!\")\n",
    "\t\t\t\ttotalPath = rootPath[:-1] + spurPath\n",
    "\t\t\t\ttotalDist = np.sum(rootPathWeights[:]) + np.sum(spurPathWeights[1:])\n",
    "\t\t\t\ttotalWeights = rootPathWeights[:] + spurPathWeights[1:]\n",
    "\t\t\t\ttotalPathRel = rootPathRel[:] + spurPathRel[1:]\n",
    "\t\t\t\tpotential_k = {'path_total_cost': totalDist,\n",
    "\t\t\t\t\t\t\t   'path': totalPath,\n",
    "\t\t\t\t\t\t\t   'path_rel': totalPathRel,\n",
    "\t\t\t\t\t\t\t   'path_weights': totalWeights}\n",
    "\t\t\t\t# log.info(\"totalPath: {}, totalPathRel: {}\".format(totalPath, totalPathRel))\n",
    "\t\t\t\tif not (potential_k in B or potential_k in A) :\n",
    "\t\t\t\t\t# removes repititive projects in A & B\n",
    "\t\t\t\t\tB.append(potential_k)\n",
    "\t\t\t# Add back the removed edges & nodes\n",
    "\t\t\t# add_node(G, removed_nodes)\n",
    "\t\t\tadd_edge(G, removed_edges)\n",
    "\t\t\tsys.stdout.flush()\n",
    "\t\tif len(B):\n",
    "\t\t\tB = sorted(B, key=lambda k: k['path_total_cost'])\n",
    "\t\t\tA.append(B[0])\n",
    "\t\t\t# log.debug(\"totalPath: {}, totalPathRel: {}\".format(B[0]['path'], B[0]['path_rel']))\n",
    "\t\t\tB.pop(0)\n",
    "\t\telse:\n",
    "\t\t\tbreak\n",
    "\tfor path_dict in A:\n",
    "\t\tdiscovered_paths.append(RelationalPathSM(sid, pid, oid, path_dict['path_total_cost'], len(path_dict['path'])-1, path_dict['path'], path_dict['path_rel'], path_dict['path_weights']))\n",
    "\treturn discovered_paths"
   ]
  },
  {
   "cell_type": "code",
   "execution_count": null,
   "metadata": {},
   "outputs": [],
   "source": [
    "# def single_spo_test(G, idx, triples, y, relsim_wt, features=None):\n",
    "# \t# Hyperparameter Setting:\n",
    "# \treturn_features = False\n",
    "# \tif features is None:\n",
    "# \t\treturn_features = True\n",
    "# \t\tfeatures, pos_features, neg_features = set(), set(), set()\n",
    "# \tmeasurements = []\n",
    "# \tG_bak = {\n",
    "# \t'data': G.csr.data.copy(),\n",
    "# \t'indices': G.csr.indices.copy(),\n",
    "# \t'indptr': G.csr.indptr.copy()\n",
    "# \t}\n",
    "# \ttriple = triples[idx]\n",
    "# \tsid, pid, oid = triple['sid'], triple['pid'], triple['oid']\n",
    "# \tlabel = y[idx]\n",
    "# \t #shift this function to the caller\n",
    "# \tG.csr.data[targets == oid] = 1 # no cost for target t => max. specificity.\n",
    "# \tG.csr.data = np.multiply(relsim_wt, G.csr.data)\n",
    "# \tplt.hist(G.csr.data, density = 1, bins=100)\n",
    "# \tplt.show()\n",
    "# \t# PERFORM PATH EXTRACTION\n",
    "# \t#paths = get_paths_sm_limited(G, sid, pid, oid, relsim_wt, \\\n",
    "# \t\t\t#weight = weight, maxpaths=200, top_n_neighbors=1000)\n",
    "# # \trp = relclosure(G, int(sid), int(pid), int(oid), kind='metric', linkpred=False)\n",
    "# # \tpaths = {}\n",
    "# #     paths['path'] = rp.path\n",
    "# \tpaths = yenKSP(G, sid, pid, oid)\n",
    "# \tprint \"Extraction complete for, s:{}, p:{}, o:{}\".format(sid, pid, oid)\n",
    "# # \tprint '{}'.format(rp.score)\n",
    "# # \tfor pth in paths:\n",
    "# # \t\tff =  tuple(pth.relational_path)\n",
    "# # \t\tif ff not in features:\n",
    "# # \t\t\tfeatures.add(ff)\n",
    "# # \t\t\tif label == 1:\n",
    "# # \t\t\t\tpos_features.add(ff)\n",
    "# # \t\t\tif label == 0:\n",
    "# # \t\t\t\tneg_features.add(ff)\n",
    "# # \t\t\telse:\n",
    "# # \t\t\t\traise Exception(\"Unknown class label: {}\".format(label))\n",
    "# # \t\ttriple_feature[ff] = triple_feature.get(ff, 0) + 1\n",
    "# # \tmeasurements.append(triple_feature)\n",
    "# # \tsys.stdout.flush()\n",
    "# \t#Restoring backup"
   ]
  }
 ],
 "metadata": {
  "CodeCell": {
   "cm_config": {
    "indentWithTabs": 2
   }
  },
  "kernelspec": {
   "display_name": "Python [default]",
   "language": "python",
   "name": "python2"
  },
  "language_info": {
   "codemirror_mode": {
    "name": "ipython",
    "version": 2
   },
   "file_extension": ".py",
   "mimetype": "text/x-python",
   "name": "python",
   "nbconvert_exporter": "python",
   "pygments_lexer": "ipython2",
   "version": "2.7.15"
  }
 },
 "nbformat": 4,
 "nbformat_minor": 2
}
