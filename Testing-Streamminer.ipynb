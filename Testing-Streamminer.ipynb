{
 "cells": [
  {
   "cell_type": "markdown",
   "metadata": {
    "nbpresent": {
     "id": "6bf67a59-4c96-470e-bdb1-0b32bae5848f"
    }
   },
   "source": [
    "# Import Settings"
   ]
  },
  {
   "cell_type": "code",
   "execution_count": 1,
   "metadata": {
    "nbpresent": {
     "id": "4d73c679-2f35-4898-8979-4dbdb11dc2a0"
    }
   },
   "outputs": [
    {
     "name": "stderr",
     "output_type": "stream",
     "text": [
      "/Users/himanshuahuja/anaconda3/envs/pcatwd2/lib/python2.7/site-packages/pandas/_libs/__init__.py:4: RuntimeWarning: numpy.dtype size changed, may indicate binary incompatibility. Expected 96, got 88\n",
      "  from .tslib import iNaT, NaT, Timestamp, Timedelta, OutOfBoundsDatetime\n",
      "/Users/himanshuahuja/anaconda3/envs/pcatwd2/lib/python2.7/site-packages/pandas/__init__.py:26: RuntimeWarning: numpy.dtype size changed, may indicate binary incompatibility. Expected 96, got 88\n",
      "  from pandas._libs import (hashtable as _hashtable,\n",
      "/Users/himanshuahuja/anaconda3/envs/pcatwd2/lib/python2.7/site-packages/pandas/core/dtypes/common.py:6: RuntimeWarning: numpy.dtype size changed, may indicate binary incompatibility. Expected 96, got 88\n",
      "  from pandas._libs import algos, lib\n",
      "/Users/himanshuahuja/anaconda3/envs/pcatwd2/lib/python2.7/site-packages/pandas/core/util/hashing.py:7: RuntimeWarning: numpy.dtype size changed, may indicate binary incompatibility. Expected 96, got 88\n",
      "  from pandas._libs import hashing, tslib\n",
      "/Users/himanshuahuja/anaconda3/envs/pcatwd2/lib/python2.7/site-packages/pandas/core/indexes/base.py:7: RuntimeWarning: numpy.dtype size changed, may indicate binary incompatibility. Expected 96, got 88\n",
      "  from pandas._libs import (lib, index as libindex, tslib as libts,\n",
      "/Users/himanshuahuja/anaconda3/envs/pcatwd2/lib/python2.7/site-packages/pandas/tseries/offsets.py:21: RuntimeWarning: numpy.dtype size changed, may indicate binary incompatibility. Expected 96, got 88\n",
      "  import pandas._libs.tslibs.offsets as liboffsets\n",
      "/Users/himanshuahuja/anaconda3/envs/pcatwd2/lib/python2.7/site-packages/pandas/core/ops.py:16: RuntimeWarning: numpy.dtype size changed, may indicate binary incompatibility. Expected 96, got 88\n",
      "  from pandas._libs import algos as libalgos, ops as libops\n",
      "/Users/himanshuahuja/anaconda3/envs/pcatwd2/lib/python2.7/site-packages/pandas/core/indexes/interval.py:32: RuntimeWarning: numpy.dtype size changed, may indicate binary incompatibility. Expected 96, got 88\n",
      "  from pandas._libs.interval import (\n",
      "/Users/himanshuahuja/anaconda3/envs/pcatwd2/lib/python2.7/site-packages/pandas/core/internals.py:14: RuntimeWarning: numpy.dtype size changed, may indicate binary incompatibility. Expected 96, got 88\n",
      "  from pandas._libs import internals as libinternals\n",
      "/Users/himanshuahuja/anaconda3/envs/pcatwd2/lib/python2.7/site-packages/pandas/core/sparse/array.py:33: RuntimeWarning: numpy.dtype size changed, may indicate binary incompatibility. Expected 96, got 88\n",
      "  import pandas._libs.sparse as splib\n",
      "/Users/himanshuahuja/anaconda3/envs/pcatwd2/lib/python2.7/site-packages/pandas/core/window.py:36: RuntimeWarning: numpy.dtype size changed, may indicate binary incompatibility. Expected 96, got 88\n",
      "  import pandas._libs.window as _window\n",
      "/Users/himanshuahuja/anaconda3/envs/pcatwd2/lib/python2.7/site-packages/pandas/core/groupby/groupby.py:68: RuntimeWarning: numpy.dtype size changed, may indicate binary incompatibility. Expected 96, got 88\n",
      "  from pandas._libs import (lib, reduction,\n",
      "/Users/himanshuahuja/anaconda3/envs/pcatwd2/lib/python2.7/site-packages/pandas/core/reshape/reshape.py:30: RuntimeWarning: numpy.dtype size changed, may indicate binary incompatibility. Expected 96, got 88\n",
      "  from pandas._libs import algos as _algos, reshape as _reshape\n",
      "/Users/himanshuahuja/anaconda3/envs/pcatwd2/lib/python2.7/site-packages/pandas/io/parsers.py:45: RuntimeWarning: numpy.dtype size changed, may indicate binary incompatibility. Expected 96, got 88\n",
      "  import pandas._libs.parsers as parsers\n",
      "/Users/himanshuahuja/anaconda3/envs/pcatwd2/lib/python2.7/site-packages/pandas/io/pytables.py:50: RuntimeWarning: numpy.dtype size changed, may indicate binary incompatibility. Expected 96, got 88\n",
      "  from pandas._libs import algos, lib, writers as libwriters\n",
      "/Users/himanshuahuja/anaconda3/envs/pcatwd2/lib/python2.7/site-packages/scipy-1.1.0-py2.7-macosx-10.6-x86_64.egg/scipy/sparse/lil.py:19: RuntimeWarning: numpy.dtype size changed, may indicate binary incompatibility. Expected 96, got 88\n",
      "  from . import _csparsetools\n",
      "/Users/himanshuahuja/anaconda3/envs/pcatwd2/lib/python2.7/site-packages/scipy-1.1.0-py2.7-macosx-10.6-x86_64.egg/scipy/sparse/csgraph/__init__.py:165: RuntimeWarning: numpy.dtype size changed, may indicate binary incompatibility. Expected 96, got 88\n",
      "  from ._shortest_path import shortest_path, floyd_warshall, dijkstra,\\\n",
      "/Users/himanshuahuja/anaconda3/envs/pcatwd2/lib/python2.7/site-packages/scipy-1.1.0-py2.7-macosx-10.6-x86_64.egg/scipy/sparse/csgraph/_validation.py:5: RuntimeWarning: numpy.dtype size changed, may indicate binary incompatibility. Expected 96, got 88\n",
      "  from ._tools import csgraph_to_dense, csgraph_from_dense,\\\n",
      "/Users/himanshuahuja/anaconda3/envs/pcatwd2/lib/python2.7/site-packages/scipy-1.1.0-py2.7-macosx-10.6-x86_64.egg/scipy/sparse/csgraph/__init__.py:167: RuntimeWarning: numpy.dtype size changed, may indicate binary incompatibility. Expected 96, got 88\n",
      "  from ._traversal import breadth_first_order, depth_first_order, \\\n",
      "/Users/himanshuahuja/anaconda3/envs/pcatwd2/lib/python2.7/site-packages/scipy-1.1.0-py2.7-macosx-10.6-x86_64.egg/scipy/sparse/csgraph/__init__.py:169: RuntimeWarning: numpy.dtype size changed, may indicate binary incompatibility. Expected 96, got 88\n",
      "  from ._min_spanning_tree import minimum_spanning_tree\n",
      "/Users/himanshuahuja/anaconda3/envs/pcatwd2/lib/python2.7/site-packages/scipy-1.1.0-py2.7-macosx-10.6-x86_64.egg/scipy/sparse/csgraph/__init__.py:170: RuntimeWarning: numpy.dtype size changed, may indicate binary incompatibility. Expected 96, got 88\n",
      "  from ._reordering import reverse_cuthill_mckee, maximum_bipartite_matching, \\\n",
      "/Users/himanshuahuja/anaconda3/envs/pcatwd2/lib/python2.7/site-packages/sklearn/utils/__init__.py:9: RuntimeWarning: numpy.dtype size changed, may indicate binary incompatibility. Expected 96, got 88\n",
      "  from .murmurhash import murmurhash3_32\n",
      "/Users/himanshuahuja/anaconda3/envs/pcatwd2/lib/python2.7/site-packages/scipy-1.1.0-py2.7-macosx-10.6-x86_64.egg/scipy/linalg/basic.py:17: RuntimeWarning: numpy.dtype size changed, may indicate binary incompatibility. Expected 96, got 88\n",
      "  from ._solve_toeplitz import levinson\n",
      "/Users/himanshuahuja/anaconda3/envs/pcatwd2/lib/python2.7/site-packages/scipy-1.1.0-py2.7-macosx-10.6-x86_64.egg/scipy/linalg/__init__.py:207: RuntimeWarning: numpy.dtype size changed, may indicate binary incompatibility. Expected 96, got 88\n",
      "  from ._decomp_update import *\n",
      "/Users/himanshuahuja/anaconda3/envs/pcatwd2/lib/python2.7/site-packages/scipy-1.1.0-py2.7-macosx-10.6-x86_64.egg/scipy/special/__init__.py:640: RuntimeWarning: numpy.dtype size changed, may indicate binary incompatibility. Expected 96, got 88\n",
      "  from ._ufuncs import *\n",
      "/Users/himanshuahuja/anaconda3/envs/pcatwd2/lib/python2.7/site-packages/scipy-1.1.0-py2.7-macosx-10.6-x86_64.egg/scipy/special/_ellip_harm.py:7: RuntimeWarning: numpy.dtype size changed, may indicate binary incompatibility. Expected 96, got 88\n",
      "  from ._ellip_harm_2 import _ellipsoid, _ellipsoid_norm\n",
      "/Users/himanshuahuja/anaconda3/envs/pcatwd2/lib/python2.7/site-packages/sklearn/feature_extraction/hashing.py:10: RuntimeWarning: numpy.dtype size changed, may indicate binary incompatibility. Expected 96, got 88\n",
      "  from . import _hashing\n",
      "/Users/himanshuahuja/anaconda3/envs/pcatwd2/lib/python2.7/site-packages/scipy-1.1.0-py2.7-macosx-10.6-x86_64.egg/scipy/interpolate/_bsplines.py:10: RuntimeWarning: numpy.dtype size changed, may indicate binary incompatibility. Expected 96, got 88\n",
      "  from . import _bspl\n",
      "/Users/himanshuahuja/anaconda3/envs/pcatwd2/lib/python2.7/site-packages/scipy-1.1.0-py2.7-macosx-10.6-x86_64.egg/scipy/spatial/__init__.py:95: RuntimeWarning: numpy.dtype size changed, may indicate binary incompatibility. Expected 96, got 88\n",
      "  from .ckdtree import *\n",
      "/Users/himanshuahuja/anaconda3/envs/pcatwd2/lib/python2.7/site-packages/scipy-1.1.0-py2.7-macosx-10.6-x86_64.egg/scipy/spatial/__init__.py:96: RuntimeWarning: numpy.dtype size changed, may indicate binary incompatibility. Expected 96, got 88\n",
      "  from .qhull import *\n",
      "/Users/himanshuahuja/anaconda3/envs/pcatwd2/lib/python2.7/site-packages/scipy-1.1.0-py2.7-macosx-10.6-x86_64.egg/scipy/spatial/_spherical_voronoi.py:18: RuntimeWarning: numpy.dtype size changed, may indicate binary incompatibility. Expected 96, got 88\n",
      "  from . import _voronoi\n",
      "/Users/himanshuahuja/anaconda3/envs/pcatwd2/lib/python2.7/site-packages/scipy-1.1.0-py2.7-macosx-10.6-x86_64.egg/scipy/spatial/distance.py:122: RuntimeWarning: numpy.dtype size changed, may indicate binary incompatibility. Expected 96, got 88\n",
      "  from . import _hausdorff\n",
      "/Users/himanshuahuja/anaconda3/envs/pcatwd2/lib/python2.7/site-packages/scipy-1.1.0-py2.7-macosx-10.6-x86_64.egg/scipy/optimize/_trlib/__init__.py:1: RuntimeWarning: numpy.dtype size changed, may indicate binary incompatibility. Expected 96, got 88\n",
      "  from ._trlib import TRLIBQuadraticSubproblem\n",
      "/Users/himanshuahuja/anaconda3/envs/pcatwd2/lib/python2.7/site-packages/scipy-1.1.0-py2.7-macosx-10.6-x86_64.egg/scipy/optimize/_numdiff.py:10: RuntimeWarning: numpy.dtype size changed, may indicate binary incompatibility. Expected 96, got 88\n",
      "  from ._group_columns import group_dense, group_sparse\n",
      "/Users/himanshuahuja/anaconda3/envs/pcatwd2/lib/python2.7/site-packages/scipy-1.1.0-py2.7-macosx-10.6-x86_64.egg/scipy/stats/_continuous_distns.py:18: RuntimeWarning: numpy.dtype size changed, may indicate binary incompatibility. Expected 96, got 88\n",
      "  from . import _stats\n"
     ]
    },
    {
     "name": "stderr",
     "output_type": "stream",
     "text": [
      "/Users/himanshuahuja/anaconda3/envs/pcatwd2/lib/python2.7/site-packages/sklearn/utils/extmath.py:24: RuntimeWarning: numpy.dtype size changed, may indicate binary incompatibility. Expected 96, got 88\n",
      "  from ._logistic_sigmoid import _log_logistic_sigmoid\n",
      "/Users/himanshuahuja/anaconda3/envs/pcatwd2/lib/python2.7/site-packages/sklearn/utils/extmath.py:26: RuntimeWarning: numpy.dtype size changed, may indicate binary incompatibility. Expected 96, got 88\n",
      "  from .sparsefuncs_fast import csr_row_norms\n",
      "/Users/himanshuahuja/anaconda3/envs/pcatwd2/lib/python2.7/site-packages/sklearn/metrics/cluster/supervised.py:23: RuntimeWarning: numpy.dtype size changed, may indicate binary incompatibility. Expected 96, got 88\n",
      "  from .expected_mutual_info_fast import expected_mutual_information\n",
      "/Users/himanshuahuja/anaconda3/envs/pcatwd2/lib/python2.7/site-packages/sklearn/metrics/pairwise.py:30: RuntimeWarning: numpy.dtype size changed, may indicate binary incompatibility. Expected 96, got 88\n",
      "  from .pairwise_fast import _chi2_kernel_fast, _sparse_manhattan\n",
      "/Users/himanshuahuja/anaconda3/envs/pcatwd2/lib/python2.7/site-packages/sklearn/utils/random.py:10: RuntimeWarning: numpy.dtype size changed, may indicate binary incompatibility. Expected 96, got 88\n",
      "  from ._random import sample_without_replacement\n",
      "/Users/himanshuahuja/anaconda3/envs/pcatwd2/lib/python2.7/site-packages/sklearn/neighbors/__init__.py:6: RuntimeWarning: numpy.dtype size changed, may indicate binary incompatibility. Expected 96, got 88\n",
      "  from .ball_tree import BallTree\n",
      "/Users/himanshuahuja/anaconda3/envs/pcatwd2/lib/python2.7/site-packages/sklearn/neighbors/__init__.py:7: RuntimeWarning: numpy.dtype size changed, may indicate binary incompatibility. Expected 96, got 88\n",
      "  from .kd_tree import KDTree\n",
      "/Users/himanshuahuja/anaconda3/envs/pcatwd2/lib/python2.7/site-packages/sklearn/linear_model/base.py:35: RuntimeWarning: numpy.dtype size changed, may indicate binary incompatibility. Expected 96, got 88\n",
      "  from ..utils.seq_dataset import ArrayDataset, CSRDataset\n",
      "/Users/himanshuahuja/anaconda3/envs/pcatwd2/lib/python2.7/site-packages/sklearn/linear_model/least_angle.py:23: RuntimeWarning: numpy.dtype size changed, may indicate binary incompatibility. Expected 96, got 88\n",
      "  from ..utils import arrayfuncs, as_float_array, check_X_y, deprecated\n",
      "/Users/himanshuahuja/anaconda3/envs/pcatwd2/lib/python2.7/site-packages/sklearn/linear_model/coordinate_descent.py:29: RuntimeWarning: numpy.dtype size changed, may indicate binary incompatibility. Expected 96, got 88\n",
      "  from . import cd_fast\n",
      "/Users/himanshuahuja/anaconda3/envs/pcatwd2/lib/python2.7/site-packages/sklearn/linear_model/__init__.py:22: RuntimeWarning: numpy.dtype size changed, may indicate binary incompatibility. Expected 96, got 88\n",
      "  from .sgd_fast import Hinge, Log, ModifiedHuber, SquaredLoss, Huber\n",
      "/Users/himanshuahuja/anaconda3/envs/pcatwd2/lib/python2.7/site-packages/sklearn/linear_model/sag.py:12: RuntimeWarning: numpy.dtype size changed, may indicate binary incompatibility. Expected 96, got 88\n",
      "  from .sag_fast import sag\n",
      "/Users/himanshuahuja/anaconda3/envs/pcatwd2/lib/python2.7/site-packages/sklearn/svm/base.py:8: RuntimeWarning: numpy.dtype size changed, may indicate binary incompatibility. Expected 96, got 88\n",
      "  from . import libsvm, liblinear\n",
      "/Users/himanshuahuja/anaconda3/envs/pcatwd2/lib/python2.7/site-packages/sklearn/svm/base.py:9: RuntimeWarning: numpy.dtype size changed, may indicate binary incompatibility. Expected 96, got 88\n",
      "  from . import libsvm_sparse\n"
     ]
    }
   ],
   "source": [
    "import sys\n",
    "import os\n",
    "import argparse\n",
    "import numpy as np\n",
    "import pandas as pd\n",
    "import warnings\n",
    "import ujson as json\n",
    "import logging as log\n",
    "\n",
    "from pandas import DataFrame, Series\n",
    "from os.path import expanduser, abspath, isfile, isdir, basename, splitext, \\\n",
    "\tdirname, join, exists\n",
    "from time import time\n",
    "from datetime import date\n",
    "import cPickle as pkl\n",
    "\n",
    "#####################################\n",
    "from datastructures.rgraph import Graph, weighted_degree\n",
    "#####################################\n",
    "\n",
    "\n",
    "from time import time\n",
    "from os.path import exists, join, abspath, expanduser, basename, dirname, \\\n",
    "\tisdir, splitext\n",
    "from sklearn.feature_extraction import DictVectorizer\n",
    "from sklearn.feature_selection import mutual_info_classif, SelectKBest\n",
    "from sklearn.linear_model import LogisticRegression\n",
    "from sklearn.pipeline import Pipeline\n",
    "from sklearn.model_selection import GridSearchCV\n",
    "\n",
    "from datastructures.rgraph import make_graph, Graph\n",
    "from datastructures.relationalpath import RelationalPath\n",
    "from datastructures.relationalpath_sm import RelationalPathSM\n",
    "from pathenum import get_paths as c_get_paths\n",
    "## for streamminer,\n",
    "from pathenum import get_paths_sm as c_get_paths_sm\n",
    "\n",
    "##############################################\n",
    "from algorithms.mincostflow.ssp import succ_shortest_path, disable_logging\n",
    "from algorithms.relklinker.rel_closure import relational_closure as relclosure\n",
    "from algorithms.klinker.closure import closure\n",
    "##############################################\n",
    "\n",
    "###################################################################\n",
    "################# DATABASE and RELSIM SETUP #######################\n",
    "###################################################################\n",
    "# KG - DBpedia\n",
    "HOME = abspath(expanduser('~/Documents/pcatxcore/knowledgestream/data/'))\n",
    "if not exists(HOME):\n",
    "\tprint 'Data directory not found: %s' % HOME\n",
    "\tprint 'Download data per instructions on:'\n",
    "\tprint '\\thttps://github.com/shiralkarprashant/knowledgestream#data'\n",
    "\tprint 'and enter the directory path below.'\n",
    "\tdata_dir = raw_input('\\nPlease enter data directory path: ')\n",
    "\tif data_dir != '':\n",
    "\t\tdata_dir = abspath(expanduser(data_dir))\n",
    "\tif not os.path.isdir(data_dir):\n",
    "\t\traise Exception('Entered path \"%s\" not a directory.' % data_dir)\n",
    "\tif not exists(data_dir):\n",
    "\t\traise Exception('Directory does not exist: %s' % data_dir)\n",
    "\tHOME = data_dir\n",
    "\t# raise Exception('Please set HOME to data directory in algorithms/__main__.py')\n",
    "PATH = join(HOME, 'kg/_undir/')\n",
    "assert exists(PATH)\n",
    "SHAPE = (6060993, 6060993, 663)\n",
    "WTFN = 'logdegree'\n",
    "\n",
    "# # relational similarity using TF-IDF representation and cosine similarity\n",
    "# RELSIMPATH = join(HOME, 'relsim/coo_mat_sym_2016-10-24_log-tf_tfidf.npy')\n",
    "# assert exists(RELSIMPATH)\n",
    "##############################################################\n",
    "RELSIMPATH = join(HOME, 'relsim/coo_mat_sym_2016-10-24_log-tf_tfidf.npy')\n",
    "assert exists(RELSIMPATH)\n",
    "##############################################################\n",
    "# relational similarity using TF-IDF representation and cosine similarity\n",
    "\n",
    "# relsim = np.load(RELSIMPATH)\n",
    "\n",
    "# Date\n",
    "DATE = '{}'.format(date.today())\n",
    "\n",
    "# data types for int and float\n",
    "_short = np.int16\n",
    "_int = np.int32\n",
    "_int64 = np.int64\n",
    "_float = np.float"
   ]
  },
  {
   "cell_type": "code",
   "execution_count": 2,
   "metadata": {
    "nbpresent": {
     "id": "d77ac976-3df5-4f75-a8ee-e7e6d343fc9a"
    }
   },
   "outputs": [
    {
     "name": "stderr",
     "output_type": "stream",
     "text": [
      "[00:36:18] Launching SM..\n",
      "[00:36:18] Dataset: sample.csv\n",
      "[00:36:18] Output dir: /Users/himanshuahuja/Documents/pcatxcore/streamminer/output\n",
      "[00:36:18] Read data: (104, 7) sample.csv\n",
      "[00:36:18] Note: Found non-NA records: (104, 7)\n"
     ]
    },
    {
     "name": "stdout",
     "output_type": "stream",
     "text": [
      "Reconstructing graph from /Users/himanshuahuja/Documents/pcatxcore/knowledgestream/data/kg/_undir\n",
      "=> Loaded: undir_data.npy\n",
      "=> Loaded: undir_indptr.npy\n",
      "=> Loaded: undir_indices.npy\n",
      "=> Loaded: undir_indeg_vec.npy\n",
      "=> Graph loaded: 0.56 secs.\n",
      "\n"
     ]
    }
   ],
   "source": [
    "\trelsim = np.load(RELSIMPATH)\n",
    "\n",
    "\toutdir = abspath(expanduser('output/'))\n",
    "\tassert exists(outdir)\n",
    "\tdatafile = abspath(expanduser('datasets/sample.csv'))\n",
    "\tassert exists(datafile)\n",
    "\tlog.info('Launching {}..'.format('SM'))\n",
    "\tlog.info('Dataset: {}'.format(basename(datafile)))\n",
    "\tlog.info('Output dir: {}'.format(outdir))\n",
    "\n",
    "\t# read data\n",
    "\tdf = pd.read_table(datafile, sep=',', header=0)\n",
    "\tlog.info('Read data: {} {}'.format(df.shape, basename(datafile)))\n",
    "\tspo_df = df.dropna(axis=0, subset=['sid', 'pid', 'oid'])\n",
    "\tlog.info('Note: Found non-NA records: {}'.format(spo_df.shape))\n",
    "\tdf = spo_df[['sid', 'pid', 'oid']].values\n",
    "\tsubs, preds, objs  = df[:,0].astype(_int), df[:,1].astype(_int), df[:,2].astype(_int)\n",
    "\n",
    "\t# load knowledge graph\n",
    "\tG = Graph.reconstruct(PATH, SHAPE, sym=True) # undirected\n",
    "\tassert np.all(G.csr.indices >= 0)\n",
    "    \n",
    "\tbase = splitext(basename(datafile))[0]\n"
   ]
  },
  {
   "cell_type": "markdown",
   "metadata": {},
   "source": [
    "## Some external test settings:"
   ]
  },
  {
   "cell_type": "code",
   "execution_count": 3,
   "metadata": {},
   "outputs": [
    {
     "name": "stderr",
     "output_type": "stream",
     "text": [
      "[00:36:19] CACHEDIR=/Users/himanshuahuja/.matplotlib\n",
      "[00:36:19] Using fontManager instance from /Users/himanshuahuja/.matplotlib/fontList.json\n",
      "[00:36:19] backend module://ipykernel.pylab.backend_inline version unknown\n",
      "[00:36:19] backend module://ipykernel.pylab.backend_inline version unknown\n",
      "[00:36:19] backend module://ipykernel.pylab.backend_inline version unknown\n"
     ]
    }
   ],
   "source": [
    "%matplotlib inline\n",
    "import matplotlib.pyplot as plt\n",
    "import heapq\n",
    "inf = float('inf')"
   ]
  },
  {
   "cell_type": "markdown",
   "metadata": {},
   "source": [
    "## Some Experiments on the graph"
   ]
  },
  {
   "cell_type": "code",
   "execution_count": 4,
   "metadata": {},
   "outputs": [
    {
     "name": "stdout",
     "output_type": "stream",
     "text": [
      "Shape of the data array: (48091479,)\n",
      "Shape of the indices array: (48091479,)\n",
      "Shape of the indptr array: (6060994,)\n"
     ]
    },
    {
     "name": "stderr",
     "output_type": "stream",
     "text": [
      "[00:36:20] findfont: Matching :family=sans-serif:style=normal:variant=normal:weight=normal:stretch=normal:size=10.0 to DejaVu Sans (u'/Users/himanshuahuja/anaconda3/envs/pcatwd2/lib/python2.7/site-packages/matplotlib/mpl-data/fonts/ttf/DejaVuSans.ttf') with score of 0.050000\n"
     ]
    },
    {
     "data": {
      "image/png": "[encoded data removed]",
      "text/plain": [
       "<Figure size 432x288 with 1 Axes>"
      ]
     },
     "metadata": {},
     "output_type": "display_data"
    }
   ],
   "source": [
    "print \"Shape of the data array: {}\".format(G.csr.data.shape) #Undirected graph\n",
    "print \"Shape of the indices array: {}\".format(G.csr.indices.shape) # for all the data points, there is one\n",
    "print \"Shape of the indptr array: {}\".format(G.csr.indptr.shape) # for all the 6M entities\n",
    "# To get an item on a particular position, just perform indexing on the self.csr matrix [node_row, rel_num * G.N + col_num]\n",
    "plt.hist(G.csr.data, bins=100)\n",
    "plt.show()"
   ]
  },
  {
   "cell_type": "markdown",
   "metadata": {},
   "source": [
    "## Some settings for SM"
   ]
  },
  {
   "cell_type": "code",
   "execution_count": 5,
   "metadata": {},
   "outputs": [
    {
     "name": "stdout",
     "output_type": "stream",
     "text": [
      "PID is: 599.0, with type: float64\n"
     ]
    }
   ],
   "source": [
    "triples = spo_df\n",
    "y = triples['class'] # ground truth\n",
    "triples = triples[['sid', 'pid', 'oid']].to_dict(orient='records')\n",
    "\n",
    "pid_removal = triples[0]['pid']\n",
    "print 'PID is: {}, with type: {}'.format(pid_removal, pid_removal.dtype)"
   ]
  },
  {
   "cell_type": "code",
   "execution_count": 6,
   "metadata": {},
   "outputs": [],
   "source": [
    "def weighted_degree(arr, weight='logdegree'):\n",
    "\t\"\"\"Returns a weighted version of the array.\"\"\"\n",
    "\tif weight == 'degree':\n",
    "\t\tarr = 1./(1 + arr)\n",
    "\telif weight == 'logdegree':\n",
    "\t\tarr = 1./(1 + np.log(arr))\n",
    "\telse:\n",
    "\t\traise ValueError('Unknown weight function.')\n",
    "\treturn arr"
   ]
  },
  {
   "cell_type": "code",
   "execution_count": 7,
   "metadata": {},
   "outputs": [
    {
     "name": "stdout",
     "output_type": "stream",
     "text": [
      "Specificity_wt has the shape: (48091479,)\n"
     ]
    },
    {
     "data": {
      "image/png": "[encoded data removed]",
      "text/plain": [
       "<Figure size 432x288 with 1 Axes>"
      ]
     },
     "metadata": {},
     "output_type": "display_data"
    }
   ],
   "source": [
    "indegsim = weighted_degree(G.indeg_vec, weight=WTFN).reshape((1, G.N))\n",
    "indegsim = indegsim.ravel()\n",
    "targets = G.csr.indices % G.N #target nodes are the node values that would occur in the first E x E matrix\n",
    "specificity_wt = indegsim[targets]\n",
    "print \"Specificity_wt has the shape: {}\".format(specificity_wt.shape)\n",
    "plt.hist(specificity_wt, bins=100)\n",
    "plt.show()"
   ]
  },
  {
   "cell_type": "markdown",
   "metadata": {},
   "source": [
    "#### Finding the relsim vector corresponding to predicate, p"
   ]
  },
  {
   "cell_type": "code",
   "execution_count": 8,
   "metadata": {},
   "outputs": [
    {
     "name": "stdout",
     "output_type": "stream",
     "text": [
      "Expected shape of the relsimvec is: (663,)\n",
      "Shape of relsim_wt is: (48091479,)\n"
     ]
    },
    {
     "data": {
      "image/png": "[encoded data removed]",
      "text/plain": [
       "<Figure size 432x288 with 1 Axes>"
      ]
     },
     "metadata": {},
     "output_type": "display_data"
    }
   ],
   "source": [
    "relations = (G.csr.indices - targets) / G.N #gives the respective relation values of those indices\n",
    "relsimvec = np.array(relsim[int(pid_removal), :]) # specific to predicate p\n",
    "print \"Expected shape of the relsimvec is: {}\".format(relsimvec.shape)\n",
    "relsim_wt = relsimvec[relations] # with the size of relations as the number of relations\n",
    "print \"Shape of relsim_wt is: {}\".format(relsim_wt.shape)\n",
    "# Binning the cosine similarity plot\n",
    "plt.hist(relsimvec,density=1, bins=20)\n",
    "plt.show()"
   ]
  },
  {
   "cell_type": "markdown",
   "metadata": {},
   "source": [
    "#### Removing the edge corresponding to p in the specificity matrix (soon to be data matrix)"
   ]
  },
  {
   "cell_type": "code",
   "execution_count": 9,
   "metadata": {},
   "outputs": [
    {
     "name": "stdout",
     "output_type": "stream",
     "text": [
      "=> Removing predicate 599.0 from KG.\n"
     ]
    },
    {
     "data": {
      "image/png": "[encoded data removed]",
      "text/plain": [
       "<Figure size 432x288 with 1 Axes>"
      ]
     },
     "metadata": {},
     "output_type": "display_data"
    }
   ],
   "source": [
    "print '=> Removing predicate {} from KG.'.format(pid_removal)\n",
    "eraseedges_mask = ((G.csr.indices - (G.csr.indices % G.N)) / G.N) == pid_removal\n",
    "specificity_wt[eraseedges_mask] = 0\n",
    "relsim_wt[eraseedges_mask] = 0\n",
    "plt.hist(specificity_wt, density = 1, bins=100, label='specificity')\n",
    "plt.hist(relsim_wt, density = 1, bins=100, label='relsim wrt to, {}'.format(pid_removal))\n",
    "plt.legend()\n",
    "plt.show()"
   ]
  },
  {
   "cell_type": "markdown",
   "metadata": {},
   "source": [
    "#### Setting values changed in graph, setting backups"
   ]
  },
  {
   "cell_type": "code",
   "execution_count": 10,
   "metadata": {},
   "outputs": [
    {
     "data": {
      "image/png": "[encoded data removed]",
      "text/plain": [
       "<Figure size 432x288 with 1 Axes>"
      ]
     },
     "metadata": {},
     "output_type": "display_data"
    }
   ],
   "source": [
    "G.csr.data = specificity_wt.copy()\n",
    "plt.hist(G.csr.data, bins=100)\n",
    "plt.show()"
   ]
  },
  {
   "cell_type": "markdown",
   "metadata": {},
   "source": [
    "##### Performing operation for a single (s, p, o)"
   ]
  },
  {
   "cell_type": "code",
   "execution_count": 11,
   "metadata": {},
   "outputs": [],
   "source": [
    "def get_paths_sm_limited(G, s, p, o, relsim_wt, weight = 10.0, maxpaths=-1, top_n_neighbors=5):\n",
    "\t# \"Returns all paths of length `length` starting at s and ending in o.\"\n",
    "\tpath_stack = [[s]]\n",
    "\tweight_path_stack = [[0.0]]\n",
    "\trelpath_stack = [[-1]]\n",
    "\tdiscoverd_paths = []\n",
    "\tprint 'We\\'re checking the path: ({}, {}, {})'.format(s, p, o)\n",
    "\twhile len(path_stack) > 0:\n",
    "\t\t# print 'Stack: {} {}'.format(path_stack, relpath_stack)\n",
    "\t\tcurr_path = path_stack.pop()\n",
    "\t\tcurr_relpath = relpath_stack.pop()\n",
    "\t\tnode = curr_path[-1]\n",
    "\t\tcurr_path_weight = weight_path_stack.pop()\n",
    "\t\t# print 'Node: {}'.format(node)\n",
    "\t\ttotal_path_weight = np.sum(curr_path_weight)\n",
    "\t\tif total_path_weight <= weight:\n",
    "\t\t\tif int(node) == int(o):\n",
    "\t\t\t\tprint 'The total weight of the path is: {}'.format(np.sum(curr_path_weight))\n",
    "\t\t\t\tpath = RelationalPathSM(\n",
    "\t\t\t\t\ts, p, o, 0., len(curr_path)-1, curr_path, curr_relpath, curr_path_weight\n",
    "\t\t\t\t)\n",
    "\t\t\t\tdiscoverd_paths.append(path)\n",
    "\t\t\t\tif maxpaths != -1 and len(discoverd_paths) >= maxpaths:\n",
    "\t\t\t\t\tprint \"Exceeded number of paths!\"\n",
    "\t\t\t\t\tbreak\n",
    "\t\t\t\tcontinue\n",
    "\t\telif total_path_weight > weight:\n",
    "\t\t\t#print 'Discarded path with weight'\n",
    "\t\t\tcontinue\n",
    "\t\t# print \"Node is: {}, o is: {}, s is: {}, p is: {}\".format(node, o, s, p)\n",
    "\t\trelnbrs, data = G.get_neighbors_sm(int(node))\n",
    "\t\tordering = np.argsort(data)\n",
    "\t\trelnbrs = relnbrs[:, ordering]\n",
    "\t\t# print 'Data vector is: {}'.format(data)\n",
    "\t\t# print(data)\n",
    "\t\trange = relnbrs.shape[1] if relnbrs.shape[1] < top_n_neighbors else top_n_neighbors\n",
    "\t\tfor i in xrange(range):\n",
    "\t\t\trel, nbr = relnbrs[:, i]\n",
    "\t\t\t# print \"rel is: {}, nbr is: {}\".format(rel, nbr)\n",
    "\t\t\tpath_stack.append(curr_path + [nbr])\n",
    "\t\t\tweight_path_stack.append(curr_path_weight + [data[i]])\n",
    "\t\t\trelpath_stack.append(curr_relpath + [rel])\n",
    "\treturn discoverd_paths"
   ]
  },
  {
   "cell_type": "code",
   "execution_count": 12,
   "metadata": {},
   "outputs": [],
   "source": [
    "def single_spo_test(G, idx, triples, y, relsim_wt, features=None):\n",
    "\t# Hyperparameter Setting:\n",
    "\treturn_features = False\n",
    "\tif features is None:\n",
    "\t\treturn_features = True\n",
    "\t\tfeatures, pos_features, neg_features = set(), set(), set()\n",
    "\tmeasurements = []\n",
    "\tG_bak = {\n",
    "\t'data': G.csr.data.copy(),\n",
    "\t'indices': G.csr.indices.copy(),\n",
    "\t'indptr': G.csr.indptr.copy()\n",
    "\t}\n",
    "\ttriple = triples[idx]\n",
    "\tsid, pid, oid = triple['sid'], triple['pid'], triple['oid']\n",
    "\tlabel = y[idx]\n",
    "\ttargets = G.csr.indices % G.N #shift this function to the caller\n",
    "\tG.csr.data[targets == oid] = 1 # no cost for target t => max. specificity.\n",
    "\tG.csr.data = np.multiply(relsim_wt, G.csr.data)\n",
    "\tplt.hist(G.csr.data, density = 1, bins=100)\n",
    "\tplt.show()\n",
    "\t# PERFORM PATH EXTRACTION\n",
    "\t#paths = get_paths_sm_limited(G, sid, pid, oid, relsim_wt, \\\n",
    "\t\t\t#weight = weight, maxpaths=200, top_n_neighbors=1000)\n",
    "# \trp = relclosure(G, int(sid), int(pid), int(oid), kind='metric', linkpred=False)\n",
    "# \tpaths = {}\n",
    "#     paths['path'] = rp.path\n",
    "\tpaths = yenKSP(G, sid, pid, oid)\n",
    "\tprint \"Extraction complete for, s:{}, p:{}, o:{}\".format(sid, pid, oid)\n",
    "# \tprint '{}'.format(rp.score)\n",
    "# \tfor pth in paths:\n",
    "# \t\tff =  tuple(pth.relational_path)\n",
    "# \t\tif ff not in features:\n",
    "# \t\t\tfeatures.add(ff)\n",
    "# \t\t\tif label == 1:\n",
    "# \t\t\t\tpos_features.add(ff)\n",
    "# \t\t\tif label == 0:\n",
    "# \t\t\t\tneg_features.add(ff)\n",
    "# \t\t\telse:\n",
    "# \t\t\t\traise Exception(\"Unknown class label: {}\".format(label))\n",
    "# \t\ttriple_feature[ff] = triple_feature.get(ff, 0) + 1\n",
    "# \tmeasurements.append(triple_feature)\n",
    "# \tsys.stdout.flush()\n",
    "\t#Restoring backup\n",
    "\tnp.copyto(G.csr.data, G_bak['data'])\n",
    "\tnp.copyto(G.csr.indices, G_bak['indices'])\n",
    "\tnp.copyto(G.csr.indptr, G_bak['indptr'])"
   ]
  },
  {
   "cell_type": "code",
   "execution_count": 13,
   "metadata": {},
   "outputs": [],
   "source": [
    "def relax(weight, u, v, r, Dist, prev):\n",
    "\td = Dist.get(u, inf) + weight\n",
    "\tif d < Dist.get(v, inf):\n",
    "\t\tDist[v] = d\n",
    "\t\tprev[v] = (-weight, u, r)\n",
    "\n",
    "def get_shortest_path(G, sid, pid, oid):\n",
    "\t#making sure that nodes are integers:\n",
    "\t# discovered_path = []\n",
    "\tsid = int(sid)\n",
    "\toid = int(oid)\n",
    "\t#prev is of the type: [weight, node, relation]\n",
    "\tDist, visited, priority_q, prev = {sid:0}, set(), [(0,sid)], {sid:(0, -1, -1)}\n",
    "\tpath_stack, rel_stack, weight_stack = [], [], []\n",
    "\twhile priority_q:\n",
    "\t\t_, u = heapq.heappop(priority_q)\n",
    "\t\tif u == oid:\n",
    "\t\t\tk = u\n",
    "\t\t\tpath_stack = [oid]\n",
    "\t\t\twhile prev[k][1] != -1:\n",
    "\t\t\t\tpath_stack.insert(0, prev[k][1])\n",
    "\t\t\t\tprint\n",
    "\t\t\t\trel_stack.insert(0, prev[k][2])\n",
    "\t\t\t\tweight_stack.insert(0, prev[k][0])\n",
    "\t\t\t\tk = prev[k][1]\n",
    "\t\t\tbreak\n",
    "\t\tif u in visited:\n",
    "\t\t\tcontinue\n",
    "\t\tvisited.add(u)\n",
    "\t\t# get the neighbours and cost of the node u\n",
    "\t\t# returns [relations, neighbors, cost]\n",
    "\t\trels, nbrs, costs = G.get_neighbors_sm_unpacked(int(u))\n",
    "\t\tfor rel, nbr, cost in zip(rels, nbrs, costs): # for the iteration through keys\n",
    "\t\t\tif cost != 0:\n",
    "\t\t\t\trelax(-cost, u, nbr, rel, Dist, prev)\n",
    "\t\t\t\theapq.heappush(priority_q, (-cost, nbr))\n",
    "\t\t\t\t# discovered_path = RelationalPathSM(sid, pid, oid, 0., len(path_stack)-1, ..)  \t\t\t\t\t\t\t\t  path_stack, rel_stack, weight_stack)\n",
    "\treturn path_stack, rel_stack, weight_stack"
   ]
  },
  {
   "cell_type": "code",
   "execution_count": 14,
   "metadata": {},
   "outputs": [],
   "source": [
    "def yenKSP(G, sid, pid, oid, K = 20):\n",
    "\tdiscovered_paths = []\n",
    "\tpath_stack, rel_stack, weight_stack = get_shortest_path(G, sid, pid, oid)\n",
    "\tif not path_stack:\n",
    "\t\treturn discovered_paths\n",
    "\tA = [{'path_total_cost': np.sum(weight_stack),\n",
    "\t\t'path': path_stack,\n",
    "\t\t'path_rel': rel_stack,\n",
    "\t\t'path_weights': weight_stack}]\n",
    "\tB = []\n",
    "\tfor k in xrange(1, K):\n",
    "\t\tfor i in xrange(0, len(A[-1]['path'])-1):\n",
    "\t\t\tspurNode = A[-1]['path'][i]\n",
    "\t\t\trootPath = A[-1]['path'][:i+1]\n",
    "\t\t\trootPathRel = A[-1]['path_rel'][:i]\n",
    "\t\t\trootPathWeights = A[-1]['path_weights'][:i]\n",
    "\t\t\t#print \"rp: {}, rpr: {}, rpw: {}\".format(len(rootPath), len(rootPathRel), len(rootPathWeights))\n",
    "\t\t\tremoved_edges = []\n",
    "\t\t\tfor path_dict in A:\n",
    "\t\t\t\tif len(path_dict['path']) > i and rootPath == path_dict['path'][:i+1]:\n",
    "\t\t\t\t\t#find the edge between ith and i+1th node\n",
    "\t\t\t\t\tedge = G.csr[path_dict['path'][i], path_dict['path_rel'][i]*G.N+path_dict['path'][i+1]]\n",
    "\t\t\t\t\tif edge == 0:\n",
    "\t\t\t\t\t\tcontinue\n",
    "\t\t\t\t\tremoved_edges.append((path_dict['path'][i], path_dict['path'][i+1], path_dict['path_rel'][i], edge))\n",
    "\t\t\t\t\tedge = 0 #delete the edge\n",
    "\t\t\tspurPath, spurPathRel, spurPathWeights = get_shortest_path(G, spurNode, pid, oid)\n",
    "\t\t\tif spurPath:\n",
    "\t\t\t\ttotalPath = rootPath[:-1] + spurPath\n",
    "\t\t\t\ttotalDist = np.sum(rootPathWeights[:-1]) + np.sum(spurPathWeights)\n",
    "\t\t\t\ttotalWeights = rootPathWeights[:-1] + spurPathWeights\n",
    "\t\t\t\ttotalPathRel = rootPathRel[:-1] + spurPathRel\n",
    "\t\t\t\tpotential_k = {'path_total_cost': totalDist,\n",
    "\t\t\t\t\t\t\t'path': totalPath,\n",
    "\t\t\t\t\t\t\t'path_rel': totalPathRel,\n",
    "\t\t\t\t\t\t\t'path_weights': totalWeights}\n",
    "\t\t\t\tif not (potential_k in B):\n",
    "\t\t\t\t\tB.append(potential_k)\n",
    "\t\t\tfor removed_edge in removed_edges:\n",
    "\t\t\t\tG.csr[removed_edge[0], removed_edge[2]*G.N + removed_edge[1]] = removed_edge[3]\n",
    "\t\tif len(B):\n",
    "\t\t\tB = sorted(B, key=lambda k: k['path_total_cost'])\n",
    "\t\t\tA.append(B[0])\n",
    "\t\t\tB.pop(0)\n",
    "\t\telse:\n",
    "\t\t\tbreak\n",
    "\tfor path_dict in A:\n",
    "\t\tdiscovered_paths.append(RelationalPathSM(sid, pid, oid, path_dict['path_total_cost'], len(path_dict['path'])-1, path_dict['path'], path_dict['path_rel'], path_dict['path_weights']))\n",
    "\treturn discovered_paths"
   ]
  },
  {
   "cell_type": "code",
   "execution_count": 15,
   "metadata": {},
   "outputs": [
    {
     "data": {
      "image/png": "[encoded data removed]",
      "text/plain": [
       "<Figure size 432x288 with 1 Axes>"
      ]
     },
     "metadata": {},
     "output_type": "display_data"
    },
    {
     "name": "stdout",
     "output_type": "stream",
     "text": [
      "\n",
      "\n",
      "\n",
      "\n",
      "\n",
      "\n",
      "\n",
      "\n",
      "\n",
      "\n",
      "\n",
      "\n",
      "\n",
      "\n",
      "\n",
      "\n",
      "\n",
      "\n",
      "\n",
      "\n",
      "20\n",
      "Extraction complete for, s:392035.0, p:599.0, o:2115741.0\n"
     ]
    }
   ],
   "source": [
    "single_spo_test(G, 0, triples, y, relsim_wt)"
   ]
  },
  {
   "cell_type": "code",
   "execution_count": null,
   "metadata": {},
   "outputs": [],
   "source": []
  }
 ],
 "metadata": {
  "CodeCell": {
   "cm_config": {
    "indentWithTabs": 2
   }
  },
  "kernelspec": {
   "display_name": "Python [conda env:pcatwd2]",
   "language": "python",
   "name": "conda-env-pcatwd2-py"
  },
  "language_info": {
   "codemirror_mode": {
    "name": "ipython",
    "version": 2
   },
   "file_extension": ".py",
   "mimetype": "text/x-python",
   "name": "python",
   "nbconvert_exporter": "python",
   "pygments_lexer": "ipython2",
   "version": "2.7.15"
  }
 },
 "nbformat": 4,
 "nbformat_minor": 2
}
