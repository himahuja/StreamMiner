{
 "cells": [
  {
   "cell_type": "markdown",
   "metadata": {},
   "source": [
    "# Import Settings"
   ]
  },
  {
   "cell_type": "code",
   "execution_count": 1,
   "metadata": {},
   "outputs": [
    {
     "name": "stderr",
     "output_type": "stream",
     "text": [
      "/Users/himanshuahuja/anaconda3/envs/pcatwd2/lib/python2.7/site-packages/pandas/_libs/__init__.py:4: RuntimeWarning: numpy.dtype size changed, may indicate binary incompatibility. Expected 96, got 88\n",
      "  from .tslib import iNaT, NaT, Timestamp, Timedelta, OutOfBoundsDatetime\n",
      "/Users/himanshuahuja/anaconda3/envs/pcatwd2/lib/python2.7/site-packages/pandas/__init__.py:26: RuntimeWarning: numpy.dtype size changed, may indicate binary incompatibility. Expected 96, got 88\n",
      "  from pandas._libs import (hashtable as _hashtable,\n",
      "/Users/himanshuahuja/anaconda3/envs/pcatwd2/lib/python2.7/site-packages/pandas/core/dtypes/common.py:6: RuntimeWarning: numpy.dtype size changed, may indicate binary incompatibility. Expected 96, got 88\n",
      "  from pandas._libs import algos, lib\n",
      "/Users/himanshuahuja/anaconda3/envs/pcatwd2/lib/python2.7/site-packages/pandas/core/util/hashing.py:7: RuntimeWarning: numpy.dtype size changed, may indicate binary incompatibility. Expected 96, got 88\n",
      "  from pandas._libs import hashing, tslib\n",
      "/Users/himanshuahuja/anaconda3/envs/pcatwd2/lib/python2.7/site-packages/pandas/core/indexes/base.py:7: RuntimeWarning: numpy.dtype size changed, may indicate binary incompatibility. Expected 96, got 88\n",
      "  from pandas._libs import (lib, index as libindex, tslib as libts,\n",
      "/Users/himanshuahuja/anaconda3/envs/pcatwd2/lib/python2.7/site-packages/pandas/tseries/offsets.py:21: RuntimeWarning: numpy.dtype size changed, may indicate binary incompatibility. Expected 96, got 88\n",
      "  import pandas._libs.tslibs.offsets as liboffsets\n",
      "/Users/himanshuahuja/anaconda3/envs/pcatwd2/lib/python2.7/site-packages/pandas/core/ops.py:16: RuntimeWarning: numpy.dtype size changed, may indicate binary incompatibility. Expected 96, got 88\n",
      "  from pandas._libs import algos as libalgos, ops as libops\n",
      "/Users/himanshuahuja/anaconda3/envs/pcatwd2/lib/python2.7/site-packages/pandas/core/indexes/interval.py:32: RuntimeWarning: numpy.dtype size changed, may indicate binary incompatibility. Expected 96, got 88\n",
      "  from pandas._libs.interval import (\n",
      "/Users/himanshuahuja/anaconda3/envs/pcatwd2/lib/python2.7/site-packages/pandas/core/internals.py:14: RuntimeWarning: numpy.dtype size changed, may indicate binary incompatibility. Expected 96, got 88\n",
      "  from pandas._libs import internals as libinternals\n",
      "/Users/himanshuahuja/anaconda3/envs/pcatwd2/lib/python2.7/site-packages/pandas/core/sparse/array.py:33: RuntimeWarning: numpy.dtype size changed, may indicate binary incompatibility. Expected 96, got 88\n",
      "  import pandas._libs.sparse as splib\n",
      "/Users/himanshuahuja/anaconda3/envs/pcatwd2/lib/python2.7/site-packages/pandas/core/window.py:36: RuntimeWarning: numpy.dtype size changed, may indicate binary incompatibility. Expected 96, got 88\n",
      "  import pandas._libs.window as _window\n",
      "/Users/himanshuahuja/anaconda3/envs/pcatwd2/lib/python2.7/site-packages/pandas/core/groupby/groupby.py:68: RuntimeWarning: numpy.dtype size changed, may indicate binary incompatibility. Expected 96, got 88\n",
      "  from pandas._libs import (lib, reduction,\n",
      "/Users/himanshuahuja/anaconda3/envs/pcatwd2/lib/python2.7/site-packages/pandas/core/reshape/reshape.py:30: RuntimeWarning: numpy.dtype size changed, may indicate binary incompatibility. Expected 96, got 88\n",
      "  from pandas._libs import algos as _algos, reshape as _reshape\n",
      "/Users/himanshuahuja/anaconda3/envs/pcatwd2/lib/python2.7/site-packages/pandas/io/parsers.py:45: RuntimeWarning: numpy.dtype size changed, may indicate binary incompatibility. Expected 96, got 88\n",
      "  import pandas._libs.parsers as parsers\n",
      "/Users/himanshuahuja/anaconda3/envs/pcatwd2/lib/python2.7/site-packages/pandas/io/pytables.py:50: RuntimeWarning: numpy.dtype size changed, may indicate binary incompatibility. Expected 96, got 88\n",
      "  from pandas._libs import algos, lib, writers as libwriters\n"
     ]
    },
    {
     "name": "stdout",
     "output_type": "stream",
     "text": [
      "Reconstructing graph from /Users/himanshuahuja/Documents/streamminer/data/kg/_undir\n",
      "=> Loaded: undir_data.npy\n",
      "=> Loaded: undir_indptr.npy\n",
      "=> Loaded: undir_indices.npy\n",
      "=> Loaded: undir_indeg_vec.npy\n",
      "=> Graph loaded: 0.61 secs.\n",
      "\n",
      "Shape of the data array: (48091479,)\n",
      "Shape of the indices array: (48091479,)\n",
      "Shape of the indptr array: (6060994,)\n"
     ]
    },
    {
     "data": {
      "image/png": "[encoded data removed]",
      "text/plain": [
       "<Figure size 432x288 with 1 Axes>"
      ]
     },
     "metadata": {},
     "output_type": "display_data"
    }
   ],
   "source": [
    "import heapq\n",
    "import sys\n",
    "import os\n",
    "import argparse\n",
    "import numpy as np\n",
    "import pandas as pd\n",
    "import warnings\n",
    "import ujson as json\n",
    "import logging as log\n",
    "from copy import copy\n",
    "from tqdm import tqdm_notebook as tqdm\n",
    "\n",
    "###### Cython benign warning ignore ##########################\n",
    "import warnings\n",
    "warnings.filterwarnings(\"ignore\", message=\"numpy.dtype size changed\")\n",
    "warnings.filterwarnings(\"ignore\", message=\"numpy.ufunc size changed\")\n",
    "###############################################################\n",
    "\n",
    "from pandas import DataFrame, Series\n",
    "from os.path import expanduser, abspath, isfile, isdir, basename, splitext, \\\n",
    "\tdirname, join, exists\n",
    "from time import time\n",
    "from datetime import date\n",
    "import cPickle as pkl\n",
    "\n",
    "#####################################\n",
    "from datastructures.rgraph import Graph, weighted_degree\n",
    "#####################################\n",
    "\n",
    "from time import time\n",
    "from os.path import exists, join, abspath, expanduser, basename, dirname, \\\n",
    "\tisdir, splitext\n",
    "from sklearn.feature_extraction import DictVectorizer\n",
    "from sklearn.feature_selection import mutual_info_classif, SelectKBest\n",
    "from sklearn.linear_model import LogisticRegression\n",
    "from sklearn.pipeline import Pipeline\n",
    "from sklearn.model_selection import GridSearchCV\n",
    "from scipy.sparse import save_npz, load_npz, csr_matrix\n",
    "\n",
    "from datastructures.rgraph import make_graph, Graph\n",
    "from datastructures.relationalpath import RelationalPath\n",
    "from datastructures.relationalpath_sm import RelationalPathSM\n",
    "from pathenum import get_paths as c_get_paths\n",
    "## for streamminer,\n",
    "from pathenum import get_paths_sm as c_get_paths_sm\n",
    "\n",
    "##############################################\n",
    "from algorithms.mincostflow.ssp import succ_shortest_path, disable_logging\n",
    "from algorithms.relklinker.rel_closure import relational_closure as relclosure\n",
    "from algorithms.sm.rel_closure_2 import relational_closure_sm as relclosure_sm\n",
    "from algorithms.klinker.closure import closure\n",
    "##############################################\n",
    "\n",
    "###################################################################\n",
    "################# DATABASE and RELSIM SETUP #######################\n",
    "###################################################################\n",
    "# KG - DBpedia\n",
    "HOME = abspath(expanduser('~/Documents/streamminer/data/'))\n",
    "if not exists(HOME):\n",
    "\tprint 'Data directory not found: %s' % HOME\n",
    "\tprint 'Download data per instructions on:'\n",
    "\tprint '\\thttps://github.com/shiralkarprashant/knowledgestream#data'\n",
    "\tprint 'and enter the directory path below.'\n",
    "\tdata_dir = raw_input('\\nPlease enter data directory path: ')\n",
    "\tif data_dir != '':\n",
    "\t\tdata_dir = abspath(expanduser(data_dir))\n",
    "\tif not os.path.isdir(data_dir):\n",
    "\t\traise Exception('Entered path \"%s\" not a directory.' % data_dir)\n",
    "\tif not exists(data_dir):\n",
    "\t\traise Exception('Directory does not exist: %s' % data_dir)\n",
    "\tHOME = data_dir\n",
    "\t# raise Exception('Please set HOME to data directory in algorithms/__main__.py')\n",
    "PATH = join(HOME, 'kg/_undir/')\n",
    "assert exists(PATH)\n",
    "SHAPE = (6060993, 6060993, 663)\n",
    "WTFN = 'logdegree'\n",
    "\n",
    "# # relational similarity using TF-IDF representation and cosine similarity\n",
    "# RELSIMPATH = join(HOME, 'relsim/coo_mat_sym_2016-10-24_log-tf_tfidf.npy')\n",
    "# assert exists(RELSIMPATH)\n",
    "##############################################################\n",
    "RELSIMPATH = join(HOME, 'relsim/coo_mat_sym_2016-10-24_log-tf_tfidf.npy')\n",
    "assert exists(RELSIMPATH)\n",
    "##############################################################\n",
    "# relational similarity using TF-IDF representation and cosine similarity\n",
    "\n",
    "# relsim = np.load(RELSIMPATH)\n",
    "\n",
    "# Date\n",
    "DATE = '{}'.format(date.today())\n",
    "\n",
    "# data types for int and float\n",
    "_short = np.int16\n",
    "_int = np.int32\n",
    "_int64 = np.int64\n",
    "_float = np.float\n",
    "\n",
    "%matplotlib inline\n",
    "import matplotlib.pyplot as plt\n",
    "import heapq\n",
    "inf = float('inf')\n",
    "\n",
    "relsim = np.load(RELSIMPATH)\n",
    "\n",
    "outdir = abspath(expanduser('output/'))\n",
    "assert exists(outdir)\n",
    "datafile = abspath(expanduser('datasets/sample.csv'))\n",
    "assert exists(datafile)\n",
    "log.info('Launching {}..'.format('SM'))\n",
    "log.info('Dataset: {}'.format(basename(datafile)))\n",
    "log.info('Output dir: {}'.format(outdir))\n",
    "\n",
    "# read data\n",
    "df = pd.read_table(datafile, sep=',', header=0)\n",
    "log.info('Read data: {} {}'.format(df.shape, basename(datafile)))\n",
    "spo_df = df.dropna(axis=0, subset=['sid', 'pid', 'oid'])\n",
    "log.info('Note: Found non-NA records: {}'.format(spo_df.shape))\n",
    "df = spo_df[['sid', 'pid', 'oid']].values\n",
    "subs, preds, objs  = df[:,0].astype(_int), df[:,1].astype(_int), df[:,2].astype(_int)\n",
    "\n",
    "# load knowledge graph\n",
    "G = Graph.reconstruct(PATH, SHAPE, sym=True) # undirected\n",
    "assert np.all(G.csr.indices >= 0)\n",
    "base = splitext(basename(datafile))[0]\n",
    "\n",
    "\n",
    "def weighted_degree(arr, weight='logdegree'):\n",
    "\t\"\"\"Returns a weighted version of the array.\"\"\"\n",
    "\tif weight == 'degree':\n",
    "\t\tarr = 1./(1 + arr)\n",
    "\telif weight == 'logdegree':\n",
    "\t\tarr = 1./(1 + np.log(arr))\n",
    "\telse:\n",
    "\t\traise ValueError('Unknown weight function.')\n",
    "\treturn arr\n",
    "\n",
    "print \"Shape of the data array: {}\".format(G.csr.data.shape) #Undirected graph\n",
    "print \"Shape of the indices array: {}\".format(G.csr.indices.shape) # for all the data points, there is one\n",
    "print \"Shape of the indptr array: {}\".format(G.csr.indptr.shape) # for all the 6M entities\n",
    "# To get an item on a particular position, just perform indexing on the self.csr matrix [node_row, rel_num * G.N + col_num]\n",
    "plt.hist(G.csr.data, bins=100)\n",
    "plt.show()"
   ]
  },
  {
   "cell_type": "markdown",
   "metadata": {},
   "source": [
    "## Some settings for SM"
   ]
  },
  {
   "cell_type": "code",
   "execution_count": 2,
   "metadata": {},
   "outputs": [
    {
     "name": "stdout",
     "output_type": "stream",
     "text": [
      "PID is: 599.0, with type: float64\n",
      "Specificity_wt has the shape: (48091479,)\n"
     ]
    },
    {
     "data": {
      "image/png": "[encoded data removed]",
      "text/plain": [
       "<Figure size 432x288 with 1 Axes>"
      ]
     },
     "metadata": {},
     "output_type": "display_data"
    }
   ],
   "source": [
    "triples = spo_df\n",
    "y = triples['class'] # ground truth\n",
    "triples = triples[['sid', 'pid', 'oid']].to_dict(orient='records')\n",
    "\n",
    "pid_removal = triples[0]['pid']\n",
    "print 'PID is: {}, with type: {}'.format(pid_removal, pid_removal.dtype)\n",
    "###############################c##############################################\n",
    "indegsim = weighted_degree(G.indeg_vec, weight=WTFN).reshape((1, G.N))\n",
    "indegsim = indegsim.ravel()\n",
    "targets = G.csr.indices % G.N #target nodes are the node values that would occur in the first E x E matrix\n",
    "specificity_wt = indegsim[targets]\n",
    "print \"Specificity_wt has the shape: {}\".format(specificity_wt.shape)\n",
    "plt.hist(specificity_wt, bins=100)\n",
    "plt.show()\n",
    "################################################################"
   ]
  },
  {
   "cell_type": "markdown",
   "metadata": {},
   "source": [
    "#### Finding the relsim vector corresponding to predicate, p"
   ]
  },
  {
   "cell_type": "code",
   "execution_count": 3,
   "metadata": {},
   "outputs": [
    {
     "name": "stdout",
     "output_type": "stream",
     "text": [
      "Expected shape of the relsimvec is: (663,)\n",
      "Shape of relsim_wt is: (48091479,)\n"
     ]
    },
    {
     "data": {
      "image/png": "[encoded data removed]",
      "text/plain": [
       "<Figure size 432x288 with 1 Axes>"
      ]
     },
     "metadata": {},
     "output_type": "display_data"
    },
    {
     "data": {
      "text/plain": [
       "array([599])"
      ]
     },
     "execution_count": 3,
     "metadata": {},
     "output_type": "execute_result"
    }
   ],
   "source": [
    "relations = (G.csr.indices - targets) / G.N #gives the respective relation values of those indices\n",
    "relsimvec = np.array(relsim[int(pid_removal), :]) # specific to predicate p\n",
    "print \"Expected shape of the relsimvec is: {}\".format(relsimvec.shape)\n",
    "relsim_wt = relsimvec[relations] # with the size of relations as the number of relations\n",
    "print \"Shape of relsim_wt is: {}\".format(relsim_wt.shape)\n",
    "# Binning the cosine similarity plot\n",
    "plt.hist(relsimvec, bins=20)\n",
    "plt.show()\n",
    "np.unique(np.where(relsimvec == 1))"
   ]
  },
  {
   "cell_type": "markdown",
   "metadata": {},
   "source": [
    "#### Removing the edge corresponding to p in the specificity matrix (soon to be data matrix)"
   ]
  },
  {
   "cell_type": "code",
   "execution_count": 4,
   "metadata": {},
   "outputs": [
    {
     "name": "stdout",
     "output_type": "stream",
     "text": [
      "=> Removing predicate 599.0 from KG.\n"
     ]
    },
    {
     "data": {
      "image/png": "[encoded data removed]",
      "text/plain": [
       "<Figure size 432x288 with 1 Axes>"
      ]
     },
     "metadata": {},
     "output_type": "display_data"
    },
    {
     "data": {
      "image/png": "[encoded data removed]",
      "text/plain": [
       "<Figure size 432x288 with 1 Axes>"
      ]
     },
     "metadata": {},
     "output_type": "display_data"
    },
    {
     "data": {
      "image/png": "[encoded data removed]",
      "text/plain": [
       "<Figure size 432x288 with 1 Axes>"
      ]
     },
     "metadata": {},
     "output_type": "display_data"
    },
    {
     "name": "stdout",
     "output_type": "stream",
     "text": [
      "Number of 1 entries before oid specific ones: 1287481\n"
     ]
    }
   ],
   "source": [
    "print '=> Removing predicate {} from KG.'.format(pid_removal)\n",
    "eraseedges_mask = ((G.csr.indices - (G.csr.indices % G.N)) / G.N) == int(pid_removal)\n",
    "specificity_wt[eraseedges_mask] = 0\n",
    "relsim_wt[eraseedges_mask] = 0\n",
    "plt.hist(specificity_wt, bins=100, label='specificity')\n",
    "plt.show()\n",
    "plt.hist(relsim_wt, bins=100, label='relsim wrt to, {}'.format(pid_removal))\n",
    "plt.show()\n",
    "G.csr.data = specificity_wt.copy()\n",
    "plt.hist(G.csr.data, bins=100)\n",
    "plt.show()\n",
    "# data has still 48M entries, but some of th1`ese indices now refer to 0 data point. The data point is not removed, it still stays.\n",
    "print \"Number of 1 entries before oid specific ones: {}\".format(np.sum(G.csr.data == 1))"
   ]
  },
  {
   "cell_type": "markdown",
   "metadata": {},
   "source": [
    "##### Final construction of data_matrix"
   ]
  },
  {
   "cell_type": "code",
   "execution_count": 5,
   "metadata": {},
   "outputs": [
    {
     "data": {
      "image/png": "[encoded data removed]",
      "text/plain": [
       "<Figure size 432x288 with 1 Axes>"
      ]
     },
     "metadata": {},
     "output_type": "display_data"
    },
    {
     "name": "stdout",
     "output_type": "stream",
     "text": [
      "Total sum caused by 599.0 is 0.0\n"
     ]
    }
   ],
   "source": [
    "targets = G.csr.indices % G.N\n",
    "G.csr.data = np.multiply(relsim_wt, G.csr.data)\n",
    "plt.hist(G.csr.data, bins=100)\n",
    "plt.show()\n",
    "print \"Total sum caused by {} is {}\".format(pid_removal, np.sum(G.csr.data[relations == pid_removal]))\n",
    "G_bak = {\n",
    "'data': G.csr.data.copy(),\n",
    "'indices': G.csr.indices.copy(),\n",
    "'indptr': G.csr.indptr.copy()\n",
    "}"
   ]
  },
  {
   "cell_type": "markdown",
   "metadata": {},
   "source": [
    "### Building of adjacency list (2mins)"
   ]
  },
  {
   "cell_type": "code",
   "execution_count": null,
   "metadata": {},
   "outputs": [],
   "source": [
    "len(relations), len(targets), len(G.csr.data), len(G.csr.indptr)\n",
    "adj_list_s = []\n",
    "adj_list_p = []\n",
    "adj_list_o = []\n",
    "sel_data = np.array([])\n",
    "sel_relations = np.array([])\n",
    "dicti = {}\n",
    "num_nodes = len(G.csr.indptr)-1\n",
    "for node in tqdm(xrange(num_nodes)):\n",
    "    dicti = {}\n",
    "    start = G.csr.indptr[node]\n",
    "    end = G.csr.indptr[node+1]\n",
    "    \n",
    "    sel_data = G.csr.data[start:end]\n",
    "    sel_relations = relations[start:end]\n",
    "    for i, sel_tar in enumerate(targets[start:end]):\n",
    "        if sel_tar in dicti:\n",
    "            if dicti[sel_tar][0] < sel_data[i]:\n",
    "                dicti[sel_tar] = (sel_data[i], sel_relations[i])\n",
    "        else:\n",
    "            dicti[sel_tar] = (sel_data[i], sel_relations[i])\n",
    "    for key, value in dicti.iteritems():\n",
    "        if value[0] != 0:\n",
    "            adj_list_data.append(value[0])\n",
    "            adj_list_s.append(node)\n",
    "            adj_list_p.append(value[1])\n",
    "            adj_list_o.append(key)\n",
    "G_fil_rel = csr_matrix((adj_list_p, (adj_list_s, adj_list_o)), shape=(num_nodes, num_nodes))\n",
    "G_fil_val = csr_matrix((adj_list_data, (adj_list_s, adj_list_o)), shape=(num_nodes, num_nodes))\n",
    "save_npz(join(HOME, 'sm', 'G_fil_rel.npz'), G_fil_rel)\n",
    "save_npz(join(HOME, 'sm', 'G_fil_val.npz'), G_fil_val)"
   ]
  },
  {
   "cell_type": "code",
   "execution_count": 9,
   "metadata": {},
   "outputs": [],
   "source": [
    "# Testing\n",
    "################################################################\n",
    "G_fil_rel = load_npz(join(HOME, 'sm', 'G_fil_rel_599.npz'))\n",
    "G_fil_val = load_npz(join(HOME, 'sm', 'G_fil_val_599.npz'))\n",
    "################################################################"
   ]
  },
  {
   "cell_type": "code",
   "execution_count": 7,
   "metadata": {},
   "outputs": [],
   "source": [
    "def delete_node(G_fil_val, G_fil_rel, s):\n",
    "    # for now it just deletes outward edges from the s node\n",
    "    s = int(s)\n",
    "    deletedNodes = []\n",
    "    start = G_fil_rel.indptr[s]\n",
    "    end = G_fil_rel.indptr[s+1]\n",
    "    tmp = G_fil_val.data[start:end]\n",
    "    # deleting data values\n",
    "    G_fil_val.data[start:end] = np.inf\n",
    "    deletedNodes.append((s, tmp))\n",
    "    return deletedNodes\n",
    "\n",
    "def add_node(G_fil_val, G_fil_rel, removedNodes):\n",
    "    for removedNode in removedNodes:\n",
    "        start = G_fil_rel.indptr[removedNode[0]]\n",
    "        end = G_fil_rel.indptr[removedNode[0]+1]\n",
    "        G_fil_val.data[start:end] = removedNode[1]\n",
    "\n",
    "def delete_edge(G_fil_val, G_fil_rel, s, p, o):\n",
    "    s, p, o = int(s), int(p), int(o)\n",
    "    deletedEdges = []\n",
    "    \n",
    "    # deleting the edge: s --> o\n",
    "#     print \"removing edge from {} to {}\".format(s, o)\n",
    "    start = G_fil_rel.indptr[s]\n",
    "    end = G_fil_rel.indptr[s+1]\n",
    "    neighbors = G_fil_rel.indices[start:end]\n",
    "    rels = G_fil_rel.data[start:end]\n",
    "    pos = start + np.where(np.logical_and(neighbors == o, rels == p))\n",
    "    \n",
    "    deletedEdges.append((s, o, p, G_fil_val.data[pos]))\n",
    "    G_fil_val.data[pos] = np.inf\n",
    "    \n",
    "    # deleting the edge: o --> s\n",
    "#     print \"removing edge from {} to {}\".format(o, s)\n",
    "    start = G_fil_rel.indptr[o]\n",
    "    end = G_fil_rel.indptr[o+1]\n",
    "    neighbors = G_fil_rel.indices[start:end]\n",
    "    rels = G_fil_rel.data[start:end]\n",
    "    pos = start + np.where(np.logical_and(neighbors == s, rels == p))\n",
    "    \n",
    "    deletedEdges.append((o, s, p, G_fil_val.data[pos]))\n",
    "    G_fil_val.data[pos] = np.inf\n",
    "    \n",
    "    return deletedEdges\n",
    "\n",
    "def add_edge(G_fil_val, G_fil_rel, removed_edges):\n",
    "    for removed_edge in removed_edges:\n",
    "        s, o, p, cost = removed_edge\n",
    "#         print \"adding edge from {} to {}\".format(s, o)\n",
    "        start = G_fil_rel.indptr[s]\n",
    "        end = G_fil_rel.indptr[s+1]\n",
    "        neighbors = G_fil_rel.indices[start:end]\n",
    "        rels = G_fil_rel.data[start:end]\n",
    "        G_fil_val.data[start + np.where(np.logical_and(neighbors == o, rels == p))] = cost\n",
    "\n",
    "def yenKSP5(G_fil_rel, G_fil_val, sid, pid, oid, K = 5):\n",
    "    discovered_paths = []\n",
    "    weight_stack, path_stack, rel_stack = relclosure_sm(G_fil_val, G_fil_rel, int(sid), int(pid), int(oid), kind='metric', linkpred = False)\n",
    "    if rel_stack == [-1]:\n",
    "        ## if the first shortest path is empty, retuen empty discoverd_paths\n",
    "        return discovered_paths\n",
    "    A = [{'path_total_cost': np.sum(weight_stack[:-1]),\n",
    "          'path': path_stack,\n",
    "          'path_rel': rel_stack,\n",
    "          'path_weights': weight_stack}]\n",
    "#     print A\n",
    "    B = []\n",
    "    removed_edges = []\n",
    "    removed_nodes = []\n",
    "    for k in xrange(1, K): #for the k-th path, it assumes all paths 1..k-1 are available\n",
    "        for i in xrange(0, len(A[-1]['path'])-1):\n",
    "            # the spurnode ranges from first node of the previous (k-1) shortest path to its next to last node.\n",
    "            spurNode = A[-1]['path'][i]\n",
    "#             print \"SpurNode{}\"spurNode\n",
    "            rootPath = A[-1]['path'][:i+1]\n",
    "            rootPathRel = A[-1]['path_rel'][:i+1]\n",
    "            rootPathWeights = A[-1]['path_weights'][:i+1]\n",
    "#             print \"SpurNode: {}, Rootpath: {}\".format(spurNode, rootPath)\n",
    "            removed_edges[:] = []\n",
    "            removed_nodes[:] = []\n",
    "            for path_dict in A:\n",
    "                if len(path_dict['path']) > i and rootPath == path_dict['path'][:i+1]:\n",
    "                    removed_edges.extend( delete_edge(G_fil_val, G_fil_rel, path_dict['path'][i], path_dict['path_rel'][i+1], path_dict['path'][i+1]) )\n",
    "            for rootPathNode in rootPath[:-1]:\n",
    "                removed_nodes.extend( delete_node(G_fil_val, G_fil_rel, rootPathNode) )\n",
    "            spurPathWeights, spurPath, spurPathRel = relclosure_sm(G_fil_val, G_fil_rel, int(spurNode), int(pid), int(oid), kind='metric', linkpred = False)\n",
    "            if spurPath and spurPathRel != [-1]:\n",
    "                totalPath = rootPath[:-1] + spurPath\n",
    "                totalDist = np.sum(rootPathWeights[:-1]) + np.sum(spurPathWeights[:-1])\n",
    "                totalWeights = rootPathWeights[:-1] + spurPathWeights[:]\n",
    "                totalPathRel = rootPathRel[:] + spurPathRel[1:]\n",
    "                potential_k = {'path_total_cost': totalDist,\n",
    "                               'path': totalPath,\n",
    "                               'path_rel': totalPathRel,\n",
    "                               'path_weights': totalWeights}\n",
    "#                 print potential_k\n",
    "                if not (potential_k in B or potential_k in A) :\n",
    "                    # removes repititive paths in A & B\n",
    "                    B.append(potential_k)\n",
    "            removed_nodes.reverse()\n",
    "            add_node(G_fil_val, G_fil_rel, removed_nodes)\n",
    "            removed_edges.reverse()\n",
    "            add_edge(G_fil_val, G_fil_rel, removed_edges)\n",
    "            sys.stdout.flush()\n",
    "        if len(B):\n",
    "            B = sorted(B, key=lambda k: k['path_total_cost'])\n",
    "            A.append(B[0])\n",
    "            # log.debug(\"totalPath: {}, totalPathRel: {}\".format(B[0]['path'], B[0]['path_rel']))\n",
    "            B.pop(0)\n",
    "        else:\n",
    "            break\n",
    "    for path_dict in A:\n",
    "        discovered_paths.append(RelationalPathSM(sid, pid, oid, path_dict['path_total_cost'], len(path_dict['path'])-1, path_dict['path'], path_dict['path_rel'], path_dict['path_weights']))\n",
    "    return discovered_paths"
   ]
  },
  {
   "cell_type": "code",
   "execution_count": 8,
   "metadata": {},
   "outputs": [
    {
     "data": {
      "application/vnd.jupyter.widget-view+json": {
       "model_id": "7d31fdfd408c4000a7fe48c1675e9a4b",
       "version_major": 2,
       "version_minor": 0
      },
      "text/plain": [
       "HBox(children=(IntProgress(value=0, max=104), HTML(value=u'')))"
      ]
     },
     "metadata": {},
     "output_type": "display_data"
    },
    {
     "name": "stdout",
     "output_type": "stream",
     "text": [
      "SPO: [ 392035.0 599.0 2115741.0], Score: 0.0677970562743, Path (1):[392035] -189 (0.07)-> [2115741]\n",
      "SPO: [ 392035.0 599.0 2115741.0], Score: 0.129642864833, Path (3):[392035] -660 (0.03)-> [78] -660 (0.04)-> [4475218] -236 (0.06)-> [2115741]\n",
      "SPO: [ 392035.0 599.0 2115741.0], Score: 0.227870891895, Path (3):[392035] -660 (0.03)-> [78] -660 (0.06)-> [532169] -236 (0.14)-> [2115741]\n",
      "SPO: [ 392035.0 599.0 2115741.0], Score: 0.32246592914, Path (5):[392035] -660 (0.03)-> [78] -660 (0.04)-> [4475218] -236 (0.04)-> [3040313] -236 (0.08)-> [532169] -236 (0.13)-> [2115741]\n",
      "SPO: [ 392035.0 599.0 2115741.0], Score: 0.292163189332, Path (5):[392035] -660 (0.03)-> [78] -660 (0.04)-> [4475218] -236 (0.04)-> [1006463] -236 (0.07)-> [532169] -236 (0.11)-> [2115741]\n",
      "SPO: [ 482030.0 599.0 2364618.0], Score: 0.0709806674345, Path (1):[482030] -189 (0.07)-> [2364618]\n",
      "SPO: [ 482030.0 599.0 2364618.0], Score: 0.189150057923, Path (3):[482030] -462 (0.04)-> [4160079] -462 (0.07)-> [4107784] -189 (0.08)-> [2364618]\n",
      "SPO: [ 482030.0 599.0 2364618.0], Score: 0.300590160143, Path (5):[482030] -462 (0.04)-> [4160079] -462 (0.07)-> [4107784] -123 (0.03)-> [3229261] -123 (0.06)-> [3641685] -189 (0.1)-> [2364618]\n",
      "SPO: [ 482030.0 599.0 2364618.0], Score: 0.307470839662, Path (7):[482030] -462 (0.04)-> [4160079] -462 (0.07)-> [4107784] -65 (0.02)-> [3229234] -339 (0.03)-> [1619701] -601 (0.04)-> [3741813] -601 (0.05)-> [679305] -601 (0.06)-> [2364618]\n",
      "SPO: [ 482030.0 599.0 2364618.0], Score: 0.298667188758, Path (7):[482030] -462 (0.04)-> [4160079] -462 (0.07)-> [4107784] -65 (0.02)-> [3229234] -339 (0.03)-> [1619701] -660 (0.03)-> [662] -660 (0.05)-> [2287973] -601 (0.06)-> [2364618]\n",
      "SPO: [ 494082.0 599.0 4119746.0], Score: 0.0709806674345, Path (1):[494082] -189 (0.07)-> [4119746]\n",
      "SPO: [ 494082.0 599.0 4119746.0], Score: 0.185839285232, Path (3):[494082] -462 (0.04)-> [4182344] -462 (0.07)-> [1596079] -189 (0.08)-> [4119746]\n",
      "SPO: [ 494082.0 599.0 4119746.0], Score: 0.185223180919, Path (3):[494082] -462 (0.04)-> [1095182] -462 (0.07)-> [4421062] -189 (0.08)-> [4119746]\n",
      "SPO: [ 494082.0 599.0 4119746.0], Score: 0.236441046223, Path (5):[494082] -462 (0.04)-> [4182344] -462 (0.07)-> [1596079] -65 (0.03)-> [3516497] -65 (0.04)-> [4370446] -189 (0.06)-> [4119746]\n",
      "SPO: [ 494082.0 599.0 4119746.0], Score: 0.318141167082, Path (3):[494082] -462 (0.04)-> [4182344] -462 (0.06)-> [3400649] -189 (0.23)-> [4119746]\n",
      "SPO: [ 846737.0 599.0 3782014.0], Score: 0.286517316618, Path (3):[846737] -65 (0.04)-> [1321700] -65 (0.09)-> [846745] -189 (0.15)-> [3782014]\n",
      "SPO: [ 846737.0 599.0 3782014.0], Score: 0.114141656281, Path (3):[846737] -480 (0.03)-> [769522] -480 (0.04)-> [5528006] -189 (0.05)-> [3782014]\n",
      "SPO: [ 846737.0 599.0 3782014.0], Score: 0.221127137519, Path (3):[846737] -480 (0.03)-> [769522] -480 (0.05)-> [2633746] -189 (0.15)-> [3782014]\n",
      "SPO: [ 846737.0 599.0 3782014.0], Score: 0.293878884718, Path (5):[846737] -480 (0.03)-> [769522] -480 (0.05)-> [2633746] -329 (0.04)-> [743463] -329 (0.07)-> [4327133] -189 (0.11)-> [3782014]\n",
      "SPO: [ 846737.0 599.0 3782014.0], Score: 0.262451694096, Path (5):[846737] -480 (0.03)-> [769522] -480 (0.05)-> [2633746] -462 (0.04)-> [769614] -462 (0.07)-> [2927811] -189 (0.08)-> [3782014]\n",
      "SPO: [ 851870.0 599.0 917821.0], Score: 0.223007000151, Path (3):[851870] -123 (0.04)-> [4568464] -123 (0.07)-> [2016524] -189 (0.11)-> [917821]\n",
      "SPO: [ 851870.0 599.0 917821.0], Score: 0.127755595684, Path (3):[851870] -189 (0.03)-> [685564] -660 (0.04)-> [79] -660 (0.07)-> [917821]\n",
      "SPO: [ 851870.0 599.0 917821.0], Score: 0.264946302339, Path (3):[851870] -123 (0.04)-> [4568464] -123 (0.05)-> [3906860] -189 (0.18)-> [917821]\n",
      "SPO: [ 851870.0 599.0 917821.0], Score: 0.215151373218, Path (5):[851870] -123 (0.04)-> [4568464] -123 (0.05)-> [3906860] -65 (0.03)-> [5450691] -65 (0.04)-> [4448484] -189 (0.05)-> [917821]\n",
      "SPO: [ 851870.0 599.0 917821.0], Score: 0.289964307411, Path (5):[851870] -189 (0.03)-> [685564] -660 (0.04)-> [79] -660 (0.04)-> [2932568] -121 (0.08)-> [1928825] -189 (0.11)-> [917821]\n",
      "SPO: [ 890343.0 599.0 685564.0], Score: 0.0670245276544, Path (1):[890343] -189 (0.07)-> [685564]\n",
      "SPO: [ 890343.0 599.0 685564.0], Score: 0.208336131551, Path (3):[890343] -123 (0.04)-> [3038271] -123 (0.07)-> [4479600] -189 (0.1)-> [685564]\n",
      "SPO: [ 890343.0 599.0 685564.0], Score: 0.225169354063, Path (5):[890343] -65 (0.02)-> [772673] -339 (0.03)-> [3038250] -601 (0.04)-> [3038271] -123 (0.06)-> [4479600] -189 (0.07)-> [685564]\n",
      "SPO: [ 890343.0 599.0 685564.0], Score: 0.200927292463, Path (5):[890343] -65 (0.02)-> [772673] -339 (0.03)-> [3038250] -660 (0.03)-> [662] -660 (0.05)-> [2229114] -601 (0.06)-> [685564]\n",
      "SPO: [ 890343.0 599.0 685564.0], Score: 0.253899643492, Path (3):[890343] -123 (0.04)-> [3038271] -123 (0.05)-> [1499330] -189 (0.17)-> [685564]\n",
      "SPO: [ 1029025.0 599.0 2364618.0], Score: 0.0709806674345, Path (1):[1029025] -189 (0.07)-> [2364618]\n",
      "SPO: [ 1029025.0 599.0 2364618.0], Score: 0.324233084967, Path (5):[1029025] -123 (0.03)-> [3789441] -123 (0.04)-> [2678431] -462 (0.04)-> [4755814] -462 (0.08)-> [2249904] -189 (0.13)-> [2364618]\n",
      "SPO: [ 1029025.0 599.0 2364618.0], Score: 0.0859695116702, Path (3):[1029025] -394 (0.02)-> [5287545] -394 (0.03)-> [5168489] -54 (0.04)-> [2364618]\n",
      "SPO: [ 1029025.0 599.0 2364618.0], Score: 0.224579024521, Path (5):[1029025] -394 (0.02)-> [5287545] -394 (0.03)-> [5168489] -54 (0.04)-> [4567127] -601 (0.06)-> [2287973] -601 (0.08)-> [2364618]\n",
      "SPO: [ 1029025.0 599.0 2364618.0], Score: 0.199346583418, Path (5):[1029025] -394 (0.02)-> [5287545] -394 (0.03)-> [5168489] -54 (0.04)-> [4567127] -660 (0.04)-> [79] -660 (0.07)-> [2364618]\n",
      "SPO: [ 1397869.0 599.0 5305646.0], Score: 0.0732918175248, Path (1):[1397869] -189 (0.07)-> [5305646]\n",
      "SPO: [ 1397869.0 599.0 5305646.0], Score: 0.302960177346, Path (5):[1397869] -602 (0.02)-> [1397870] -660 (0.03)-> [703] -660 (0.03)-> [3391698] -602 (0.04)-> [3391697] -189 (0.18)-> [5305646]\n",
      "SPO: [ 1397869.0 599.0 5305646.0], Score: 0.302236904099, Path (7):[1397869] -602 (0.02)-> [1397870] -660 (0.03)-> [703] -660 (0.03)-> [3391698] -602 (0.04)-> [3391697] -123 (0.03)-> [5256012] -123 (0.06)-> [4670089] -189 (0.09)-> [5305646]\n",
      "SPO: [ 1397869.0 599.0 5305646.0], Score: 0.402103069783, Path (9):[1397869] -602 (0.02)-> [1397870] -660 (0.03)-> [703] -660 (0.03)-> [3391698] -602 (0.04)-> [3391697] -123 (0.03)-> [5256012] -123 (0.06)-> [4670089] -462 (0.04)-> [4704367] -462 (0.07)-> [2619928] -189 (0.08)-> [5305646]\n",
      "SPO: [ 1397869.0 599.0 5305646.0], Score: 0.398263975535, Path (9):[1397869] -602 (0.02)-> [1397870] -660 (0.03)-> [703] -660 (0.03)-> [3391698] -602 (0.04)-> [3391697] -123 (0.03)-> [5256012] -123 (0.06)-> [4670089] -329 (0.04)-> [3740468] -329 (0.06)-> [4243536] -121 (0.08)-> [5305646]\n",
      "SPO: [ 1431155.0 599.0 4567127.0], Score: 0.3767466941, Path (5):[1431155] -123 (0.03)-> [3748948] -123 (0.04)-> [4743373] -329 (0.05)-> [3148940] -329 (0.09)-> [5651172] -189 (0.18)-> [4567127]\n",
      "SPO: [ 1431155.0 599.0 4567127.0], Score: 0.235878581379, Path (5):[1431155] -65 (0.02)-> [2944974] -661 (0.03)-> [3187717] -661 (0.04)-> [3640344] -65 (0.06)-> [5492355] -189 (0.09)-> [4567127]\n",
      "SPO: [ 1431155.0 599.0 4567127.0], Score: 0.192672051272, Path (5):[1431155] -65 (0.02)-> [2944974] -661 (0.03)-> [3187717] -661 (0.03)-> [3436140] -65 (0.05)-> [847598] -189 (0.06)-> [4567127]\n",
      "SPO: [ 1431155.0 599.0 4567127.0], Score: 0.258765654105, Path (7):[1431155] -65 (0.02)-> [2944974] -661 (0.03)-> [3187717] -661 (0.03)-> [3436140] -65 (0.05)-> [847598] -65 (0.03)-> [917573] -65 (0.05)-> [1059235] -189 (0.06)-> [4567127]\n",
      "SPO: [ 1431155.0 599.0 4567127.0], Score: 0.289525100991, Path (7):[1431155] -123 (0.03)-> [3748948] -123 (0.04)-> [4743373] -65 (0.02)-> [1354392] -65 (0.03)-> [678457] -189 (0.04)-> [4567129] -601 (0.06)-> [290262] -601 (0.08)-> [4567127]\n",
      "SPO: [ 1522148.0 599.0 1357357.0], Score: 0.17915544258, Path (3):[1522148] -329 (0.04)-> [3740468] -329 (0.06)-> [4368651] -121 (0.08)-> [1357357]\n",
      "SPO: [ 1522148.0 599.0 1357357.0], Score: 0.15147173385, Path (3):[1522148] -189 (0.03)-> [3584723] -121 (0.05)-> [2594378] -189 (0.07)-> [1357357]\n",
      "SPO: [ 1522148.0 599.0 1357357.0], Score: 0.14092926234, Path (3):[1522148] -189 (0.03)-> [3584723] -660 (0.04)-> [79] -660 (0.07)-> [1357357]\n",
      "SPO: [ 1522148.0 599.0 1357357.0], Score: 0.282334153748, Path (3):[1522148] -329 (0.04)-> [3740468] -329 (0.06)-> [2834442] -189 (0.19)-> [1357357]\n",
      "SPO: [ 1522148.0 599.0 1357357.0], Score: 0.298489117074, Path (5):[1522148] -189 (0.03)-> [3584723] -121 (0.05)-> [2594378] -462 (0.04)-> [2269316] -462 (0.07)-> [4368651] -121 (0.1)-> [1357357]\n"
     ]
    },
    {
     "name": "stdout",
     "output_type": "stream",
     "text": [
      "SPO: [ 1670176.0 599.0 3218267.0], Score: 0.0691551371972, Path (1):[1670176] -189 (0.07)-> [3218267]\n",
      "SPO: [ 1670176.0 599.0 3218267.0], Score: 0.36068501687, Path (5):[1670176] -123 (0.03)-> [4628295] -601 (0.04)-> [2944879] -418 (0.05)-> [584900] -431 (0.09)-> [5205802] -601 (0.15)-> [3218267]\n",
      "SPO: [ 1670176.0 599.0 3218267.0], Score: 0.288822689762, Path (5):[1670176] -123 (0.02)-> [1257183] -194 (0.03)-> [2902285] -311 (0.04)-> [4110879] -480 (0.07)-> [2634517] -311 (0.12)-> [3218267]\n",
      "SPO: [ 1670176.0 599.0 3218267.0], Score: 0.289872465037, Path (5):[1670176] -123 (0.03)-> [4628295] -601 (0.04)-> [2944879] -418 (0.05)-> [584900] -418 (0.06)-> [4833954] -601 (0.11)-> [3218267]\n",
      "SPO: [ 1670176.0 599.0 3218267.0], Score: 0.30167518834, Path (5):[1670176] -123 (0.02)-> [1257183] -194 (0.03)-> [2671770] -311 (0.04)-> [4110879] -480 (0.06)-> [2634517] -311 (0.15)-> [3218267]\n",
      "SPO: [ 1940481.0 599.0 4628461.0], Score: 0.0735669510738, Path (1):[1940481] -189 (0.07)-> [4628461]\n",
      "SPO: [ 1940481.0 599.0 4628461.0], Score: 0.189545861441, Path (3):[1940481] -462 (0.04)-> [769614] -462 (0.07)-> [2651957] -189 (0.08)-> [4628461]\n",
      "SPO: [ 1940481.0 599.0 4628461.0], Score: 0.139656498524, Path (3):[1940481] -65 (0.03)-> [3584688] -65 (0.05)-> [1053338] -189 (0.06)-> [4628461]\n",
      "SPO: [ 1940481.0 599.0 4628461.0], Score: 0.355682426313, Path (3):[1940481] -462 (0.04)-> [769614] -462 (0.06)-> [4420843] -189 (0.26)-> [4628461]\n",
      "SPO: [ 1940481.0 599.0 4628461.0], Score: 0.388183931396, Path (7):[1940481] -462 (0.04)-> [769614] -462 (0.07)-> [2651957] -123 (0.03)-> [5259500] -123 (0.04)-> [2228995] -123 (0.05)-> [3235416] -123 (0.07)-> [1287364] -189 (0.1)-> [4628461]\n",
      "SPO: [ 2486139.0 599.0 1487110.0], Score: 0.0681202681455, Path (1):[2486139] -189 (0.07)-> [1487110]\n",
      "SPO: [ 2486139.0 599.0 1487110.0], Score: 0.199214328522, Path (3):[2486139] -123 (0.04)-> [2450744] -123 (0.07)-> [1136615] -189 (0.1)-> [1487110]\n",
      "SPO: [ 2486139.0 599.0 1487110.0], Score: 0.123001581028, Path (3):[2486139] -65 (0.03)-> [1156552] -65 (0.04)-> [2648441] -189 (0.05)-> [1487110]\n",
      "SPO: [ 2486139.0 599.0 1487110.0], Score: 0.238484695414, Path (5):[2486139] -123 (0.04)-> [2450744] -123 (0.07)-> [1136615] -65 (0.03)-> [4815673] -65 (0.05)-> [3446588] -189 (0.06)-> [1487110]\n",
      "SPO: [ 2486139.0 599.0 1487110.0], Score: 0.250654513231, Path (5):[2486139] -65 (0.03)-> [1156552] -65 (0.04)-> [2648441] -123 (0.03)-> [2437264] -123 (0.06)-> [2929722] -189 (0.09)-> [1487110]\n",
      "SPO: [ 2528654.0 599.0 4525720.0], Score: 0.0677184915905, Path (1):[2528654] -189 (0.07)-> [4525720]\n",
      "SPO: [ 2528654.0 599.0 4525720.0], Score: 0.21770302282, Path (3):[2528654] -123 (0.04)-> [1209536] -123 (0.07)-> [5457851] -189 (0.11)-> [4525720]\n",
      "SPO: [ 2528654.0 599.0 4525720.0], Score: 0.135552807271, Path (3):[2528654] -65 (0.03)-> [4145550] -65 (0.05)-> [3461924] -189 (0.06)-> [4525720]\n",
      "SPO: [ 2528654.0 599.0 4525720.0], Score: 0.252718342823, Path (3):[2528654] -65 (0.03)-> [4145550] -65 (0.05)-> [2922481] -189 (0.17)-> [4525720]\n",
      "SPO: [ 2528654.0 599.0 4525720.0], Score: 0.274728759905, Path (3):[2528654] -123 (0.04)-> [1209536] -123 (0.05)-> [891732] -189 (0.19)-> [4525720]\n",
      "SPO: [ 2570038.0 599.0 3218267.0], Score: 0.0691551371972, Path (1):[2570038] -189 (0.07)-> [3218267]\n",
      "SPO: [ 2570038.0 599.0 3218267.0], Score: 0.206915743424, Path (3):[2570038] -462 (0.04)-> [1243963] -462 (0.07)-> [3394865] -189 (0.1)-> [3218267]\n",
      "SPO: [ 2570038.0 599.0 3218267.0], Score: 0.186015370579, Path (3):[2570038] -123 (0.03)-> [3846117] -123 (0.06)-> [1499655] -189 (0.09)-> [3218267]\n",
      "SPO: [ 2570038.0 599.0 3218267.0], Score: 0.241493021518, Path (3):[2570038] -123 (0.03)-> [3846117] -123 (0.05)-> [2037717] -189 (0.16)-> [3218267]\n",
      "SPO: [ 2570038.0 599.0 3218267.0], Score: 0.288597382806, Path (3):[2570038] -462 (0.04)-> [1243963] -462 (0.05)-> [2649008] -189 (0.2)-> [3218267]\n",
      "SPO: [ 2618836.0 599.0 2450828.0], Score: 0.129370469717, Path (3):[2618836] -189 (0.03)-> [2115741] -660 (0.04)-> [79] -660 (0.07)-> [2450828]\n",
      "SPO: [ 2618836.0 599.0 2450828.0], Score: 0.203763951424, Path (5):[2618836] -65 (0.02)-> [4567000] -339 (0.03)-> [4436033] -431 (0.03)-> [4729777] -410 (0.05)-> [2307912] -311 (0.07)-> [2450828]\n",
      "SPO: [ 2618836.0 599.0 2450828.0], Score: 0.180416576824, Path (5):[2618836] -65 (0.02)-> [4567000] -339 (0.03)-> [4436033] -431 (0.03)-> [4729777] -339 (0.03)-> [2451118] -339 (0.06)-> [2450828]\n",
      "SPO: [ 2618836.0 599.0 2450828.0], Score: 0.252681700967, Path (7):[2618836] -65 (0.02)-> [4567000] -339 (0.03)-> [4436033] -431 (0.03)-> [4729777] -410 (0.05)-> [2307912] -65 (0.03)-> [3781679] -65 (0.04)-> [5346126] -189 (0.05)-> [2450828]\n",
      "SPO: [ 2618836.0 599.0 2450828.0], Score: 0.275694651544, Path (7):[2618836] -65 (0.02)-> [4567000] -339 (0.03)-> [4436033] -660 (0.02)-> [610] -660 (0.03)-> [3678478] -431 (0.04)-> [4729777] -410 (0.06)-> [2307912] -311 (0.07)-> [2450828]\n",
      "SPO: [ 2636226.0 599.0 3218267.0], Score: 0.0691551371972, Path (1):[2636226] -189 (0.07)-> [3218267]\n",
      "SPO: [ 2636226.0 599.0 3218267.0], Score: 0.227506419464, Path (3):[2636226] -123 (0.04)-> [5473221] -123 (0.07)-> [1621390] -189 (0.12)-> [3218267]\n",
      "SPO: [ 2636226.0 599.0 3218267.0], Score: 0.108315347703, Path (3):[2636226] -480 (0.02)-> [1243951] -480 (0.04)-> [949612] -189 (0.05)-> [3218267]\n",
      "SPO: [ 2636226.0 599.0 3218267.0], Score: 0.19457537212, Path (3):[2636226] -480 (0.02)-> [1243951] -480 (0.05)-> [996670] -121 (0.12)-> [3218267]\n",
      "SPO: [ 2636226.0 599.0 3218267.0], Score: 0.218286119189, Path (3):[2636226] -123 (0.04)-> [5473221] -123 (0.05)-> [1489283] -189 (0.13)-> [3218267]\n",
      "SPO: [ 2673918.0 599.0 1487110.0], Score: 0.0681202681455, Path (1):[2673918] -189 (0.07)-> [1487110]\n",
      "SPO: [ 2673918.0 599.0 1487110.0], Score: 0.339498547132, Path (5):[2673918] -123 (0.03)-> [3479198] -123 (0.04)-> [5135581] -329 (0.05)-> [3149086] -329 (0.07)-> [5189427] -189 (0.15)-> [1487110]\n",
      "SPO: [ 2673918.0 599.0 1487110.0], Score: 0.210505025254, Path (5):[2673918] -65 (0.02)-> [4707103] -65 (0.03)-> [957802] -236 (0.03)-> [1487087] -601 (0.05)-> [4723843] -601 (0.07)-> [1487110]\n",
      "SPO: [ 2673918.0 599.0 1487110.0], Score: 0.30369527035, Path (7):[2673918] -65 (0.02)-> [4707103] -65 (0.03)-> [957802] -236 (0.03)-> [1487087] -601 (0.05)-> [4723843] -339 (0.03)-> [4169041] -65 (0.05)-> [5431514] -189 (0.08)-> [1487110]\n",
      "SPO: [ 2673918.0 599.0 1487110.0], Score: 0.309366562555, Path (5):[2673918] -123 (0.03)-> [3479198] -123 (0.03)-> [5217729] -329 (0.05)-> [3149086] -329 (0.07)-> [5189427] -189 (0.13)-> [1487110]\n",
      "SPO: [ 2710736.0 599.0 917821.0], Score: 0.0684876588563, Path (1):[2710736] -189 (0.07)-> [917821]\n",
      "SPO: [ 2710736.0 599.0 917821.0], Score: 0.204609720076, Path (3):[2710736] -123 (0.04)-> [3886384] -123 (0.07)-> [3395467] -189 (0.1)-> [917821]\n",
      "SPO: [ 2710736.0 599.0 917821.0], Score: 0.274370214472, Path (3):[2710736] -123 (0.04)-> [3886384] -123 (0.05)-> [887285] -189 (0.19)-> [917821]\n",
      "SPO: [ 2710736.0 599.0 917821.0], Score: 0.302416308018, Path (5):[2710736] -65 (0.03)-> [3420157] -65 (0.04)-> [440068] -121 (0.05)-> [2932568] -121 (0.08)-> [1928825] -189 (0.12)-> [917821]\n",
      "SPO: [ 2710736.0 599.0 917821.0], Score: 0.219185147245, Path (5):[2710736] -65 (0.03)-> [3420157] -65 (0.04)-> [440068] -121 (0.05)-> [2932568] -660 (0.04)-> [79] -660 (0.07)-> [917821]\n"
     ]
    },
    {
     "ename": "KeyboardInterrupt",
     "evalue": "",
     "output_type": "error",
     "traceback": [
      "\u001b[0;31m---------------------------------------------------------------------------\u001b[0m",
      "\u001b[0;31mKeyboardInterrupt\u001b[0m                         Traceback (most recent call last)",
      "\u001b[0;32m<ipython-input-8-6c1fc1226943>\u001b[0m in \u001b[0;36m<module>\u001b[0;34m()\u001b[0m\n\u001b[1;32m     29\u001b[0m     \u001b[0;32mreturn\u001b[0m \u001b[0mmeasurements\u001b[0m\u001b[0;34m\u001b[0m\u001b[0m\n\u001b[1;32m     30\u001b[0m \u001b[0;34m\u001b[0m\u001b[0m\n\u001b[0;32m---> 31\u001b[0;31m \u001b[0mfeatures\u001b[0m\u001b[0;34m,\u001b[0m \u001b[0mpos_features\u001b[0m\u001b[0;34m,\u001b[0m \u001b[0mneg_features\u001b[0m\u001b[0;34m,\u001b[0m \u001b[0mmeasurements\u001b[0m \u001b[0;34m=\u001b[0m \u001b[0mextract_paths_sm\u001b[0m\u001b[0;34m(\u001b[0m\u001b[0mG_fil_val\u001b[0m\u001b[0;34m,\u001b[0m \u001b[0mG_fil_rel\u001b[0m\u001b[0;34m,\u001b[0m \u001b[0mtriples\u001b[0m\u001b[0;34m,\u001b[0m \u001b[0my\u001b[0m\u001b[0;34m)\u001b[0m\u001b[0;34m\u001b[0m\u001b[0m\n\u001b[0m",
      "\u001b[0;32m<ipython-input-8-6c1fc1226943>\u001b[0m in \u001b[0;36mextract_paths_sm\u001b[0;34m(G_fil_val, G_fil_rel, triples, y, features)\u001b[0m\n\u001b[1;32m     11\u001b[0m         \u001b[0mtriple_feature\u001b[0m \u001b[0;34m=\u001b[0m \u001b[0mdict\u001b[0m\u001b[0;34m(\u001b[0m\u001b[0;34m)\u001b[0m\u001b[0;34m\u001b[0m\u001b[0m\n\u001b[1;32m     12\u001b[0m         \u001b[0mweight_stack\u001b[0m\u001b[0;34m,\u001b[0m \u001b[0mpath_stack\u001b[0m\u001b[0;34m,\u001b[0m \u001b[0mrel_stack\u001b[0m \u001b[0;34m=\u001b[0m \u001b[0mrelclosure_sm\u001b[0m\u001b[0;34m(\u001b[0m\u001b[0mG_fil_val\u001b[0m\u001b[0;34m,\u001b[0m \u001b[0mG_fil_rel\u001b[0m\u001b[0;34m,\u001b[0m \u001b[0mint\u001b[0m\u001b[0;34m(\u001b[0m\u001b[0msid\u001b[0m\u001b[0;34m)\u001b[0m\u001b[0;34m,\u001b[0m \u001b[0mint\u001b[0m\u001b[0;34m(\u001b[0m\u001b[0mpid\u001b[0m\u001b[0;34m)\u001b[0m\u001b[0;34m,\u001b[0m \u001b[0mint\u001b[0m\u001b[0;34m(\u001b[0m\u001b[0moid\u001b[0m\u001b[0;34m)\u001b[0m\u001b[0;34m,\u001b[0m \u001b[0mkind\u001b[0m\u001b[0;34m=\u001b[0m\u001b[0;34m'metric'\u001b[0m\u001b[0;34m,\u001b[0m \u001b[0mlinkpred\u001b[0m \u001b[0;34m=\u001b[0m \u001b[0mFalse\u001b[0m\u001b[0;34m)\u001b[0m\u001b[0;34m\u001b[0m\u001b[0m\n\u001b[0;32m---> 13\u001b[0;31m         \u001b[0mdiscovered_paths\u001b[0m \u001b[0;34m=\u001b[0m \u001b[0myenKSP5\u001b[0m\u001b[0;34m(\u001b[0m\u001b[0mG_fil_rel\u001b[0m\u001b[0;34m,\u001b[0m \u001b[0mG_fil_val\u001b[0m\u001b[0;34m,\u001b[0m \u001b[0msid\u001b[0m\u001b[0;34m,\u001b[0m \u001b[0mpid\u001b[0m\u001b[0;34m,\u001b[0m \u001b[0moid\u001b[0m\u001b[0;34m,\u001b[0m \u001b[0mK\u001b[0m \u001b[0;34m=\u001b[0m \u001b[0;36m5\u001b[0m\u001b[0;34m)\u001b[0m\u001b[0;34m\u001b[0m\u001b[0m\n\u001b[0m\u001b[1;32m     14\u001b[0m         \u001b[0;32mfor\u001b[0m \u001b[0mpath\u001b[0m \u001b[0;32min\u001b[0m \u001b[0mdiscovered_paths\u001b[0m\u001b[0;34m:\u001b[0m\u001b[0;34m\u001b[0m\u001b[0m\n\u001b[1;32m     15\u001b[0m             \u001b[0;32mprint\u001b[0m \u001b[0mpath\u001b[0m\u001b[0;34m\u001b[0m\u001b[0m\n",
      "\u001b[0;32m<ipython-input-7-cb648d825a44>\u001b[0m in \u001b[0;36myenKSP5\u001b[0;34m(G_fil_rel, G_fil_val, sid, pid, oid, K)\u001b[0m\n\u001b[1;32m     85\u001b[0m             \u001b[0;32mfor\u001b[0m \u001b[0mrootPathNode\u001b[0m \u001b[0;32min\u001b[0m \u001b[0mrootPath\u001b[0m\u001b[0;34m[\u001b[0m\u001b[0;34m:\u001b[0m\u001b[0;34m-\u001b[0m\u001b[0;36m1\u001b[0m\u001b[0;34m]\u001b[0m\u001b[0;34m:\u001b[0m\u001b[0;34m\u001b[0m\u001b[0m\n\u001b[1;32m     86\u001b[0m                 \u001b[0mremoved_nodes\u001b[0m\u001b[0;34m.\u001b[0m\u001b[0mextend\u001b[0m\u001b[0;34m(\u001b[0m \u001b[0mdelete_node\u001b[0m\u001b[0;34m(\u001b[0m\u001b[0mG_fil_val\u001b[0m\u001b[0;34m,\u001b[0m \u001b[0mG_fil_rel\u001b[0m\u001b[0;34m,\u001b[0m \u001b[0mrootPathNode\u001b[0m\u001b[0;34m)\u001b[0m \u001b[0;34m)\u001b[0m\u001b[0;34m\u001b[0m\u001b[0m\n\u001b[0;32m---> 87\u001b[0;31m             \u001b[0mspurPathWeights\u001b[0m\u001b[0;34m,\u001b[0m \u001b[0mspurPath\u001b[0m\u001b[0;34m,\u001b[0m \u001b[0mspurPathRel\u001b[0m \u001b[0;34m=\u001b[0m \u001b[0mrelclosure_sm\u001b[0m\u001b[0;34m(\u001b[0m\u001b[0mG_fil_val\u001b[0m\u001b[0;34m,\u001b[0m \u001b[0mG_fil_rel\u001b[0m\u001b[0;34m,\u001b[0m \u001b[0mint\u001b[0m\u001b[0;34m(\u001b[0m\u001b[0mspurNode\u001b[0m\u001b[0;34m)\u001b[0m\u001b[0;34m,\u001b[0m \u001b[0mint\u001b[0m\u001b[0;34m(\u001b[0m\u001b[0mpid\u001b[0m\u001b[0;34m)\u001b[0m\u001b[0;34m,\u001b[0m \u001b[0mint\u001b[0m\u001b[0;34m(\u001b[0m\u001b[0moid\u001b[0m\u001b[0;34m)\u001b[0m\u001b[0;34m,\u001b[0m \u001b[0mkind\u001b[0m\u001b[0;34m=\u001b[0m\u001b[0;34m'metric'\u001b[0m\u001b[0;34m,\u001b[0m \u001b[0mlinkpred\u001b[0m \u001b[0;34m=\u001b[0m \u001b[0mFalse\u001b[0m\u001b[0;34m)\u001b[0m\u001b[0;34m\u001b[0m\u001b[0m\n\u001b[0m\u001b[1;32m     88\u001b[0m             \u001b[0;32mif\u001b[0m \u001b[0mspurPath\u001b[0m \u001b[0;32mand\u001b[0m \u001b[0mspurPathRel\u001b[0m \u001b[0;34m!=\u001b[0m \u001b[0;34m[\u001b[0m\u001b[0;34m-\u001b[0m\u001b[0;36m1\u001b[0m\u001b[0;34m]\u001b[0m\u001b[0;34m:\u001b[0m\u001b[0;34m\u001b[0m\u001b[0m\n\u001b[1;32m     89\u001b[0m                 \u001b[0mtotalPath\u001b[0m \u001b[0;34m=\u001b[0m \u001b[0mrootPath\u001b[0m\u001b[0;34m[\u001b[0m\u001b[0;34m:\u001b[0m\u001b[0;34m-\u001b[0m\u001b[0;36m1\u001b[0m\u001b[0;34m]\u001b[0m \u001b[0;34m+\u001b[0m \u001b[0mspurPath\u001b[0m\u001b[0;34m\u001b[0m\u001b[0m\n",
      "\u001b[0;32m/Users/himanshuahuja/Documents/streamminer/algorithms/sm/rel_closure_2.pyx\u001b[0m in \u001b[0;36malgorithms.sm.rel_closure_2.relational_closure_sm\u001b[0;34m()\u001b[0m\n\u001b[1;32m     20\u001b[0m \u001b[0;31m# ================ CLOSURE PROCEDURES ================\u001b[0m\u001b[0;34m\u001b[0m\u001b[0;34m\u001b[0m\u001b[0m\n\u001b[1;32m     21\u001b[0m \u001b[0;34m\u001b[0m\u001b[0m\n\u001b[0;32m---> 22\u001b[0;31m \u001b[0mcpdef\u001b[0m \u001b[0mrelational_closure_sm\u001b[0m\u001b[0;34m(\u001b[0m\u001b[0mG\u001b[0m\u001b[0;34m,\u001b[0m \u001b[0mG_rel\u001b[0m\u001b[0;34m,\u001b[0m \u001b[0ms\u001b[0m\u001b[0;34m,\u001b[0m \u001b[0mp\u001b[0m\u001b[0;34m,\u001b[0m \u001b[0mo\u001b[0m\u001b[0;34m,\u001b[0m \u001b[0mkind\u001b[0m\u001b[0;34m=\u001b[0m\u001b[0;34m'metric'\u001b[0m\u001b[0;34m,\u001b[0m \u001b[0mlinkpred\u001b[0m\u001b[0;34m=\u001b[0m\u001b[0mTrue\u001b[0m\u001b[0;34m)\u001b[0m\u001b[0;34m:\u001b[0m\u001b[0;34m\u001b[0m\u001b[0m\n\u001b[0m\u001b[1;32m     23\u001b[0m \t\"\"\"\n\u001b[1;32m     24\u001b[0m         \u001b[0mComputes\u001b[0m \u001b[0ma\u001b[0m \u001b[0mrelational\u001b[0m \u001b[0mclosure\u001b[0m \u001b[0musing\u001b[0m \u001b[0mDijkstra\u001b[0m\u001b[0;31m'\u001b[0m\u001b[0ms\u001b[0m \u001b[0malgorithm\u001b[0m\u001b[0;34m.\u001b[0m\u001b[0;34m\u001b[0m\u001b[0m\n",
      "\u001b[0;32m/Users/himanshuahuja/Documents/streamminer/algorithms/sm/rel_closure_2.pyx\u001b[0m in \u001b[0;36malgorithms.sm.rel_closure_2.relational_closure_sm\u001b[0;34m()\u001b[0m\n\u001b[1;32m     66\u001b[0m \u001b[0;34m\u001b[0m\u001b[0m\n\u001b[1;32m     67\u001b[0m         \u001b[0;31m# closure\u001b[0m\u001b[0;34m\u001b[0m\u001b[0;34m\u001b[0m\u001b[0m\n\u001b[0;32m---> 68\u001b[0;31m         \u001b[0mcaps\u001b[0m\u001b[0;34m,\u001b[0m \u001b[0mpreds\u001b[0m\u001b[0;34m,\u001b[0m \u001b[0mrels\u001b[0m \u001b[0;34m=\u001b[0m \u001b[0mcclosuress\u001b[0m\u001b[0;34m(\u001b[0m\u001b[0mdata\u001b[0m\u001b[0;34m,\u001b[0m \u001b[0mdata_rel\u001b[0m\u001b[0;34m,\u001b[0m \u001b[0mindices\u001b[0m\u001b[0;34m,\u001b[0m \u001b[0mindptr\u001b[0m\u001b[0;34m,\u001b[0m \u001b[0ms\u001b[0m\u001b[0;34m,\u001b[0m \u001b[0mp\u001b[0m\u001b[0;34m,\u001b[0m \u001b[0mo\u001b[0m\u001b[0;34m,\u001b[0m \u001b[0mclosure\u001b[0m\u001b[0;34m)\u001b[0m\u001b[0;34m\u001b[0m\u001b[0m\n\u001b[0m\u001b[1;32m     69\u001b[0m \u001b[0;34m\u001b[0m\u001b[0m\n\u001b[1;32m     70\u001b[0m         \u001b[0mpath\u001b[0m \u001b[0;34m=\u001b[0m \u001b[0;34m[\u001b[0m\u001b[0;34m]\u001b[0m\u001b[0;34m\u001b[0m\u001b[0m\n",
      "\u001b[0;32m/Users/himanshuahuja/Documents/streamminer/algorithms/sm/rel_closure_2.pyx\u001b[0m in \u001b[0;36malgorithms.sm.rel_closure_2.cclosuress\u001b[0;34m()\u001b[0m\n\u001b[1;32m    197\u001b[0m                                         \u001b[0mrelations\u001b[0m\u001b[0;34m[\u001b[0m\u001b[0mneighbor\u001b[0m\u001b[0;34m]\u001b[0m \u001b[0;34m=\u001b[0m \u001b[0mneigh_cand_rel\u001b[0m \u001b[0;31m# candidate relation\u001b[0m\u001b[0;34m\u001b[0m\u001b[0m\n\u001b[1;32m    198\u001b[0m                                         \u001b[0mQ\u001b[0m\u001b[0;34m.\u001b[0m\u001b[0mpush_if_lower_fast\u001b[0m\u001b[0;34m(\u001b[0m\u001b[0;34m-\u001b[0m\u001b[0mnew_cap\u001b[0m\u001b[0;34m,\u001b[0m \u001b[0mneighbor\u001b[0m\u001b[0;34m)\u001b[0m \u001b[0;31m# heapify\u001b[0m\u001b[0;34m\u001b[0m\u001b[0m\n\u001b[0;32m--> 199\u001b[0;31m         \u001b[0mcaps_arr\u001b[0m \u001b[0;34m=\u001b[0m \u001b[0mnp\u001b[0m\u001b[0;34m.\u001b[0m\u001b[0masarray\u001b[0m\u001b[0;34m(\u001b[0m\u001b[0mcapacities\u001b[0m\u001b[0;34m)\u001b[0m\u001b[0;34m\u001b[0m\u001b[0m\n\u001b[0m\u001b[1;32m    200\u001b[0m         \u001b[0mpreds_arr\u001b[0m \u001b[0;34m=\u001b[0m \u001b[0mnp\u001b[0m\u001b[0;34m.\u001b[0m\u001b[0masarray\u001b[0m\u001b[0;34m(\u001b[0m\u001b[0mpredecessors\u001b[0m\u001b[0;34m)\u001b[0m\u001b[0;34m\u001b[0m\u001b[0m\n\u001b[1;32m    201\u001b[0m         \u001b[0mrels_arr\u001b[0m \u001b[0;34m=\u001b[0m \u001b[0mnp\u001b[0m\u001b[0;34m.\u001b[0m\u001b[0masarray\u001b[0m\u001b[0;34m(\u001b[0m\u001b[0mrelations\u001b[0m\u001b[0;34m)\u001b[0m\u001b[0;34m\u001b[0m\u001b[0m\n",
      "\u001b[0;32m/Users/himanshuahuja/anaconda3/envs/pcatwd2/lib/python2.7/site-packages/numpy/core/numeric.pyc\u001b[0m in \u001b[0;36masarray\u001b[0;34m(a, dtype, order)\u001b[0m\n\u001b[1;32m    431\u001b[0m \u001b[0;34m\u001b[0m\u001b[0m\n\u001b[1;32m    432\u001b[0m \u001b[0;34m\u001b[0m\u001b[0m\n\u001b[0;32m--> 433\u001b[0;31m \u001b[0;32mdef\u001b[0m \u001b[0masarray\u001b[0m\u001b[0;34m(\u001b[0m\u001b[0ma\u001b[0m\u001b[0;34m,\u001b[0m \u001b[0mdtype\u001b[0m\u001b[0;34m=\u001b[0m\u001b[0mNone\u001b[0m\u001b[0;34m,\u001b[0m \u001b[0morder\u001b[0m\u001b[0;34m=\u001b[0m\u001b[0mNone\u001b[0m\u001b[0;34m)\u001b[0m\u001b[0;34m:\u001b[0m\u001b[0;34m\u001b[0m\u001b[0m\n\u001b[0m\u001b[1;32m    434\u001b[0m     \"\"\"Convert the input to an array.\n\u001b[1;32m    435\u001b[0m \u001b[0;34m\u001b[0m\u001b[0m\n",
      "\u001b[0;31mKeyboardInterrupt\u001b[0m: "
     ]
    }
   ],
   "source": [
    "def extract_paths_sm(G_fil_val, G_fil_rel, triples, y, features=None):\n",
    "    return_features = False\n",
    "    if features is None:\n",
    "        return_features = True\n",
    "        features, pos_features, neg_features = set(), set(), set()\n",
    "    measurements = []\n",
    "\n",
    "    for idx, triple in enumerate(tqdm(triples)):\n",
    "        sid, pid, oid = triple['sid'], triple['pid'], triple['oid']\n",
    "        label = y[idx]\n",
    "        triple_feature = dict()\n",
    "        discovered_paths = yenKSP5(G_fil_rel, G_fil_val, sid, pid, oid, K = 5)\n",
    "        for path in discovered_paths:\n",
    "            print path\n",
    "            ff = tuple(path.relational_path)\n",
    "            if ff not in features:\n",
    "                features.add(ff)\n",
    "                if label == 1:\n",
    "                    pos_features.add(ff)\n",
    "                elif label == 0:\n",
    "                    neg_features.add(ff)\n",
    "                else:\n",
    "                    raise Exception(\"Unknown class label: {}\".format(label))\n",
    "            triple_feature[ff] = triple_feature.get(ff, 0) + 1\n",
    "        measurements.append(triple_feature)\n",
    "    print ''\n",
    "    if return_features:\n",
    "        return features, pos_features, neg_features, measurements\n",
    "    return measurements\n",
    "\n",
    "features, pos_features, neg_features, measurements = extract_paths_sm(G_fil_val, G_fil_rel, triples, y)"
   ]
  },
  {
   "cell_type": "code",
   "execution_count": null,
   "metadata": {},
   "outputs": [],
   "source": [
    "def predpath_train_model_sm(G_fil_val, G_fil_rel, triples, relsim, use_interpretable_features=False, cv=10):\n",
    "    y = triples['class'] # ground truth\n",
    "    triples = triples[['sid', 'pid', 'oid']].to_dict(orient='records')\n",
    "    pid = triples[0]['pid']\n",
    "    log.info('PID is: {}, with type: {}'.format(pid, pid.dtype))\n",
    "    #print 'PID is: {}, with type: {}'.format(pid, pid.dtype)\n",
    "    \n",
    "\t############# Path extraction ###################\n",
    "\tlog.info('=> Path extraction..(this can take a while)')\n",
    "\tt1 = time()\n",
    "\tfeatures, pos_features, neg_features, measurements = extract_paths_sm(G_fil_val, G_fil_rel, triples, y)\n",
    "\tlog.info('P: +:{}, -:{}, unique tot:{}'.format(len(pos_features), len(neg_features), len(features)))\n",
    "\tvec = DictVectorizer()\n",
    "\tX = vec.fit_transform(measurements)\n",
    "\tn, m = X.shape\n",
    "\tlog.info('Time taken: {:.2f}s\\n'.format(time() - t1))\n",
    "\tprint ''\n",
    "\n",
    "\t########### Path selection ###############\n",
    "\tlog.info('=> Path selection..')\n",
    "\tt1 = time()\n",
    "\tpathselect = SelectKBest(mutual_info_classif, k=min(100, m))\n",
    "\tX_select = pathselect.fit_transform(X, y)\n",
    "\tselectidx = pathselect.get_support(indices=True) # selected feature indices\n",
    "\tvec = vec.restrict(selectidx, indices=True)\n",
    "\tselect_pos_features, select_neg_features = set(), set()\n",
    "\tfor feature in vec.get_feature_names():\n",
    "\t\tif feature in pos_features:\n",
    "\t\t\tselect_pos_features.add(feature)\n",
    "\t\tif feature in neg_features:\n",
    "\t\t\tselect_neg_features.add(feature)\n",
    "\tlog.info('D: +:{}, -:{}, tot:{}'.format(len(select_pos_features), len(select_neg_features), X_select.shape[1]))\n",
    "\tlog.info('Time taken: {:.2f}s\\n'.format(time() - t1))\n",
    "\tprint ''\n",
    "\n",
    "\t# Fact interpretation\n",
    "\tif use_interpretable_features and len(select_neg_features) > 0:\n",
    "\t\tlog.info('=> Fact interpretation..')\n",
    "\t\t#print '=> Fact interpretation..'\n",
    "\t\tt1 = time()\n",
    "\t\ttheta = 10\n",
    "\t\tselect_neg_idx = [i for i, f in enumerate(vec.get_feature_names()) if f in select_neg_features]\n",
    "\t\tremovemask = np.where(np.sum(X_select[:, select_neg_idx], axis=0) >= theta)[0]\n",
    "\t\trestrictidx = select_neg_idx[removemask]\n",
    "\t\tkeepidx = []\n",
    "\t\tfor i, f in enumerate(vec.get_feature_names()):\n",
    "\t\t\tif i not in restrictidx:\n",
    "\t\t\t\tkeepidx.append(i)\n",
    "\t\t\telse:\n",
    "\t\t\t\tselect_neg_features.remove(f)\n",
    "\t\tvec = vec.restrictidx(keepidx, indices=True)\n",
    "\t\tX_select = X_select[:, keepidx]\n",
    "\t\tlog.info('D*: +:{}, -:{}, tot:{}'.format(len(select_pos_features), len(select_neg_features), X_select.shape[1]))\n",
    "\t\tlog.info('Time taken: {:.2f}s\\n'.format(time() - t1))\n",
    "\t\t#print 'D*: +:{}, -:{}, tot:{}'.format(len(select_pos_features), len(select_neg_features), X_select.shape[1])\n",
    "\t\t#print 'Time taken: {:.2f}s'.format(time() - t1)\n",
    "\t\t#print ''\n",
    "\n",
    "\t# Model creation\n",
    "\tlog.info('=> Model building..')\n",
    "\t#print '=> Model building..'\n",
    "\tt1 = time()\n",
    "\tmodel = find_best_model(X_select, y, cv=cv)\n",
    "\tlog.info('#Features: {}, best-AUROC: {:.5f}'.format(X_select.shape[1], model['best_score']))\n",
    "\t#print '#Features: {}, best-AUROC: {:.5f}'.format(X_select.shape[1], model['best_score'])\n",
    "\tlog.info('Time taken: {:.2f}s\\n'.format(time() - t1))\n",
    "\t#print 'Time taken: {:.2f}s'.format(time() - t1)\n",
    "\t#print ''\n",
    "\n",
    "\treturn vec, model"
   ]
  },
  {
   "cell_type": "code",
   "execution_count": null,
   "metadata": {},
   "outputs": [],
   "source": [
    "source_try = 392035\n",
    "target_try = 2115741 \n",
    "pred_try = 599\n",
    "discovered_paths = yenKSP5(G_fil_rel, G_fil_val, source_try, pred_try, target_try, K = 5)\n",
    "for path in discovered_paths:\n",
    "    print path"
   ]
  },
  {
   "cell_type": "code",
   "execution_count": 11,
   "metadata": {},
   "outputs": [],
   "source": [
    "G_fil_val.data[34] = np.inf"
   ]
  },
  {
   "cell_type": "code",
   "execution_count": null,
   "metadata": {},
   "outputs": [],
   "source": []
  }
 ],
 "metadata": {
  "CodeCell": {
   "cm_config": {
    "indentWithTabs": 2
   }
  },
  "kernelspec": {
   "display_name": "Python [default]",
   "language": "python",
   "name": "python2"
  },
  "language_info": {
   "codemirror_mode": {
    "name": "ipython",
    "version": 2
   },
   "file_extension": ".py",
   "mimetype": "text/x-python",
   "name": "python",
   "nbconvert_exporter": "python",
   "pygments_lexer": "ipython2",
   "version": "2.7.15"
  }
 },
 "nbformat": 4,
 "nbformat_minor": 2
}
